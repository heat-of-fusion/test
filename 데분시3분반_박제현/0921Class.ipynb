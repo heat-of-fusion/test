{
 "cells": [
  {
   "cell_type": "markdown",
   "id": "01abbbb7-2d8e-40de-8980-34f45402d12f",
   "metadata": {},
   "source": [
    "# 데이터분석과 시각화\n",
    "\n",
    "## *인공지능융합학부* ` 20226744학번 ` **박제현**\n",
    "\n",
    "### 9월 21일 수업 강의 내용"
   ]
  },
  {
   "cell_type": "code",
   "execution_count": 1,
   "id": "41276678-7571-4d13-bb44-359e0d964454",
   "metadata": {},
   "outputs": [
    {
     "name": "stdout",
     "output_type": "stream",
     "text": [
      "10\n"
     ]
    }
   ],
   "source": [
    "print(eval('6 + 4'))"
   ]
  },
  {
   "cell_type": "code",
   "execution_count": 2,
   "id": "42364db2-a7a7-40e0-8092-cb3b39f0383e",
   "metadata": {},
   "outputs": [
    {
     "name": "stdout",
     "output_type": "stream",
     "text": [
      "12*13 = 156\n",
      "12-5 = 7\n",
      "8-27 = -19\n",
      "33*36 = 1188\n",
      "4-38 = -34\n",
      "10+8 = 18\n",
      "10-3 = 7\n",
      "21+24 = 45\n",
      "3-3 = 0\n",
      "34+12 = 46\n"
     ]
    }
   ],
   "source": [
    "import random as rd\n",
    "\n",
    "def make_q():\n",
    "    a = rd.randint(1, 40)\n",
    "    b = rd.randint(1, 40)\n",
    "    c = rd.randint(1, 3)\n",
    "\n",
    "    q = str(a)\n",
    "    if c  == 1:\n",
    "        q = q + '+'\n",
    "    elif c == 2:\n",
    "        q = q + '-'\n",
    "    else:\n",
    "        q = q + '*'\n",
    "\n",
    "    q = q + str(b)\n",
    "    return q\n",
    "\n",
    "for i in range(10):\n",
    "    q_result = make_q()\n",
    "    print('{} = {}'.format(q_result, eval(q_result)))"
   ]
  },
  {
   "cell_type": "code",
   "execution_count": 3,
   "id": "85a57a78-e1ab-44a2-958d-bed74e944a31",
   "metadata": {},
   "outputs": [
    {
     "name": "stdin",
     "output_type": "stream",
     "text": [
      "출제할 문제의 개수를 입력해주세요:  5\n"
     ]
    },
    {
     "name": "stdout",
     "output_type": "stream",
     "text": [
      "29+7 = 36\n",
      "7+40 = 47\n",
      "24*28 = 672\n",
      "2*5 = 10\n",
      "35*9 = 315\n"
     ]
    }
   ],
   "source": [
    "for i in range(int(input('출제할 문제의 개수를 입력해주세요: '))):\n",
    "    q_result = make_q()\n",
    "    print('{} = {}'.format(q_result, eval(q_result)))"
   ]
  },
  {
   "cell_type": "code",
   "execution_count": 4,
   "id": "3e27c6c1-5052-4ad2-8c0e-68ec620d8396",
   "metadata": {},
   "outputs": [
    {
     "name": "stdin",
     "output_type": "stream",
     "text": [
      "풀 문제의 개수를 입력해주세요:  3\n",
      "4-14 =  -10\n"
     ]
    },
    {
     "name": "stdout",
     "output_type": "stream",
     "text": [
      "정답입니다.\n"
     ]
    },
    {
     "name": "stdin",
     "output_type": "stream",
     "text": [
      "1*37 =  37\n"
     ]
    },
    {
     "name": "stdout",
     "output_type": "stream",
     "text": [
      "정답입니다.\n"
     ]
    },
    {
     "name": "stdin",
     "output_type": "stream",
     "text": [
      "13+4 =  17\n"
     ]
    },
    {
     "name": "stdout",
     "output_type": "stream",
     "text": [
      "정답입니다.\n"
     ]
    }
   ],
   "source": [
    "for i in range(int(input('풀 문제의 개수를 입력해주세요: '))):\n",
    "    q_result = make_q()\n",
    "    if int(input('{} = '.format(q_result))) == eval(q_result):\n",
    "        print('정답입니다.')\n",
    "    else:\n",
    "        print('오답입니다. 정답은 {}입니다.'.format(eval(q_result)))"
   ]
  },
  {
   "cell_type": "code",
   "execution_count": 5,
   "id": "a90c966e-6791-4d1b-9a2e-5f0b90b49418",
   "metadata": {},
   "outputs": [
    {
     "name": "stdin",
     "output_type": "stream",
     "text": [
      "풀 문제의 개수를 입력해주세요:  3\n",
      "4*12 =  48\n"
     ]
    },
    {
     "name": "stdout",
     "output_type": "stream",
     "text": [
      "정답입니다.\n"
     ]
    },
    {
     "name": "stdin",
     "output_type": "stream",
     "text": [
      "38+34 =  72\n"
     ]
    },
    {
     "name": "stdout",
     "output_type": "stream",
     "text": [
      "정답입니다.\n"
     ]
    },
    {
     "name": "stdin",
     "output_type": "stream",
     "text": [
      "12+32 =  44\n"
     ]
    },
    {
     "name": "stdout",
     "output_type": "stream",
     "text": [
      "정답입니다.\n",
      "당신의 점수는 100점 만점에 100.0입니다.\n"
     ]
    }
   ],
   "source": [
    "try:\n",
    "    intervalNum = int(input('풀 문제의 개수를 입력해주세요: '))\n",
    "except:\n",
    "    print('입력값을 확인해주세요.')\n",
    "    exit()\n",
    "eachScore = 100 / intervalNum\n",
    "correct = 0\n",
    "\n",
    "for i in range(intervalNum):\n",
    "    q_result = make_q()\n",
    "    if int(input('{} = '.format(q_result))) == eval(q_result):\n",
    "        print('정답입니다.')\n",
    "        correct += 1\n",
    "    else:\n",
    "        print('오답입니다. 정답은 {}입니다.'.format(eval(q_result)))\n",
    "\n",
    "print('당신의 점수는 100점 만점에 {:.1f}입니다.'.format(correct * eachScore))"
   ]
  },
  {
   "cell_type": "code",
   "execution_count": 6,
   "id": "e9cf8e5d-ca1f-4753-87ca-24e34d91f8a4",
   "metadata": {},
   "outputs": [
    {
     "name": "stdout",
     "output_type": "stream",
     "text": [
      "Press Enter!\n"
     ]
    },
    {
     "name": "stdin",
     "output_type": "stream",
     "text": [
      " \n",
      "풀 문제의 개수를 입력해주세요:  3\n",
      "18*8 =  144\n"
     ]
    },
    {
     "name": "stdout",
     "output_type": "stream",
     "text": [
      "정답입니다.\n"
     ]
    },
    {
     "name": "stdin",
     "output_type": "stream",
     "text": [
      "6*4 =  24\n"
     ]
    },
    {
     "name": "stdout",
     "output_type": "stream",
     "text": [
      "정답입니다.\n"
     ]
    },
    {
     "name": "stdin",
     "output_type": "stream",
     "text": [
      "25*40 =  1000\n"
     ]
    },
    {
     "name": "stdout",
     "output_type": "stream",
     "text": [
      "정답입니다.\n",
      "당신의 점수는 100점 만점에 100.0입니다. (소요시간: 11.52)\n"
     ]
    }
   ],
   "source": [
    "import time\n",
    "\n",
    "print('Press Enter!')\n",
    "input()\n",
    "\n",
    "start = time.time()\n",
    "\n",
    "try:\n",
    "    intervalNum = int(input('풀 문제의 개수를 입력해주세요: '))\n",
    "except:\n",
    "    print('입력값을 확인해주세요.')\n",
    "    exit()\n",
    "eachScore = 100 / intervalNum\n",
    "correct = 0\n",
    "\n",
    "for i in range(intervalNum):\n",
    "    q_result = make_q()\n",
    "    if int(input('{} = '.format(q_result))) == eval(q_result):\n",
    "        print('정답입니다.')\n",
    "        correct += 1\n",
    "    else:\n",
    "        print('오답입니다. 정답은 {}입니다.'.format(eval(q_result)))\n",
    "        \n",
    "end = time.time()\n",
    "\n",
    "print('당신의 점수는 100점 만점에 {:.1f}입니다. (소요시간: {})'.format(correct * eachScore, round(end - start, 2)))"
   ]
  }
 ],
 "metadata": {
  "kernelspec": {
   "display_name": "Python 3 (ipykernel)",
   "language": "python",
   "name": "python3"
  },
  "language_info": {
   "codemirror_mode": {
    "name": "ipython",
    "version": 3
   },
   "file_extension": ".py",
   "mimetype": "text/x-python",
   "name": "python",
   "nbconvert_exporter": "python",
   "pygments_lexer": "ipython3",
   "version": "3.9.12"
  }
 },
 "nbformat": 4,
 "nbformat_minor": 5
}
