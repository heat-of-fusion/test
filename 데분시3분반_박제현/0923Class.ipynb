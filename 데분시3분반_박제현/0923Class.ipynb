{
 "cells": [
  {
   "cell_type": "markdown",
   "id": "36f5f42e-7fb3-4dda-ac05-cd77d62cd7c7",
   "metadata": {},
   "source": [
    "# 데이터분석과 시각화\n",
    "\n",
    "## *인공지능융합학부* ` 20226744학번 ` **박제현**\n",
    "\n",
    "### 9월 21일 수업 강의 내용\""
   ]
  },
  {
   "cell_type": "code",
   "execution_count": 1,
   "id": "17764499-f13e-4e20-8a3f-7dd8532e3670",
   "metadata": {},
   "outputs": [
    {
     "name": "stdin",
     "output_type": "stream",
     "text": [
      "number of subject?  4\n",
      "*subject 1:  math\n",
      "*subject 2:  science\n",
      "*subject 3:  english\n",
      "*subject 4:  history\n"
     ]
    },
    {
     "name": "stdout",
     "output_type": "stream",
     "text": [
      "sub_list = ['math', 'science', 'english', 'history']\n"
     ]
    }
   ],
   "source": [
    "def sub_input(n):\n",
    "    sub_list = []\n",
    "    for i in range(1, n + 1):\n",
    "        sub_list.append(input('*subject {}: '.format(i)))\n",
    "    return sub_list\n",
    "print('sub_list = {}'.format(sub_input(int(input('number of subject? ')))))"
   ]
  },
  {
   "cell_type": "code",
   "execution_count": 12,
   "id": "2f141980-bdc7-439f-b76c-b07055c3bd55",
   "metadata": {},
   "outputs": [
    {
     "name": "stdin",
     "output_type": "stream",
     "text": [
      "number of subject?  4\n",
      "* subject 1:  math\n",
      "* score 1:  87\n",
      "* subject 2:  english\n",
      "* score 2:  94\n",
      "* subject 3:  science\n",
      "* score 3:  85\n",
      "* subject 4:  history\n",
      "* score 4:  92\n"
     ]
    },
    {
     "name": "stdout",
     "output_type": "stream",
     "text": [
      "====================================================================================================\n",
      "sub_list = ['math', 'english', 'science', 'history']\n",
      "score_list = [87, 94, 85, 92]\n",
      "Mgrade_list = [('math', 87), ('english', 94), ('science', 85), ('history', 92)]\n",
      "Mgrade_dic = {'math': 87, 'english': 94, 'science': 85, 'history': 92}\n",
      "====================================================================================================\n",
      "Total Score : 358, Average : 89.5\n"
     ]
    }
   ],
   "source": [
    "def grade_cal(n):\n",
    "    sub_list, score_list, Mgrade_list, Mgrade_dic = [], [], [], {}\n",
    "    for i in range(1, n + 1):\n",
    "        sub = input('* subject {}: '.format(i))\n",
    "        sco = int(input('* score {}: '.format(i)))\n",
    "        sub_list.append(sub)\n",
    "        score_list.append(sco)\n",
    "        Mgrade_list.append((sub, sco))\n",
    "        Mgrade_dic[sub] = sco\n",
    "    return [sub_list, score_list, Mgrade_list, Mgrade_dic]\n",
    "grade_data = grade_cal(int(input('number of subject? ')))\n",
    "print('=' * 100)\n",
    "print('sub_list = {}\\nscore_list = {}\\nMgrade_list = {}\\nMgrade_dic = {}'.format(grade_data[0], grade_data[1], grade_data[2], grade_data[3]))\n",
    "print('=' * 100)\n",
    "print('Total Score : {}, Average : {}'.format(sum(grade_data[1]), sum(grade_data[1]) / len(grade_data[1])))"
   ]
  },
  {
   "cell_type": "code",
   "execution_count": null,
   "id": "b5b10922-d3c2-44f9-813a-5f208fe93a45",
   "metadata": {},
   "outputs": [],
   "source": []
  }
 ],
 "metadata": {
  "kernelspec": {
   "display_name": "Python 3 (ipykernel)",
   "language": "python",
   "name": "python3"
  },
  "language_info": {
   "codemirror_mode": {
    "name": "ipython",
    "version": 3
   },
   "file_extension": ".py",
   "mimetype": "text/x-python",
   "name": "python",
   "nbconvert_exporter": "python",
   "pygments_lexer": "ipython3",
   "version": "3.9.12"
  }
 },
 "nbformat": 4,
 "nbformat_minor": 5
}
