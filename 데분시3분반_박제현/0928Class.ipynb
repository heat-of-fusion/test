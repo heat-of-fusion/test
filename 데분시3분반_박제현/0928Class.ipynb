{
 "cells": [
  {
   "cell_type": "markdown",
   "id": "36b228ee-3619-408d-8a3c-658808f60634",
   "metadata": {},
   "source": [
    "# 데이터분석과 시각화\n",
    "\n",
    "## *인공지능융합학부* ` 20226744학번 ` **박제현**\n",
    "\n",
    "### 9월 28일 수업 강의 내용\""
   ]
  },
  {
   "cell_type": "code",
   "execution_count": null,
   "id": "93be23d0-960c-4e77-9524-ce592a286855",
   "metadata": {},
   "outputs": [],
   "source": [
    "sub_list = ['math', 'english', 'science', 'history']\n",
    "score_list = [87, 94, 85, 92]\n",
    "Mid_dic= {'math': 87, 'english': 94, 'science': 85, 'history': 92}"
   ]
  },
  {
   "cell_type": "code",
   "execution_count": null,
   "id": "e764f2ae-6beb-4cb7-8dac-57a71d878148",
   "metadata": {},
   "outputs": [
    {
     "data": {
      "text/plain": [
       "(891, 15)"
      ]
     },
     "execution_count": 2,
     "metadata": {},
     "output_type": "execute_result"
    }
   ],
   "source": [
    "import seaborn as sb\n",
    "\n",
    "df = sb.load_dataset('titanic')\n",
    "df.shape"
   ]
  },
  {
   "cell_type": "code",
   "execution_count": null,
   "id": "459f6391-c5c5-4fb0-9ae7-4ec6e413fe0c",
   "metadata": {},
   "outputs": [
    {
     "data": {
      "text/plain": [
       "array([87, 94, 85, 92], dtype=int64)"
      ]
     },
     "execution_count": 3,
     "metadata": {},
     "output_type": "execute_result"
    }
   ],
   "source": [
    "import pandas as pd\n",
    "\n",
    "ds1 = pd.Series(score_list)\n",
    "ds1\n",
    "\n",
    "#score_list\n",
    "ds1.index\n",
    "ds1.values"
   ]
  },
  {
   "cell_type": "code",
   "execution_count": null,
   "id": "4574a348-2254-4f25-b4b3-0d5a28b911ec",
   "metadata": {},
   "outputs": [
    {
     "data": {
      "text/plain": [
       "0    87\n",
       "2    85\n",
       "dtype: int64"
      ]
     },
     "execution_count": 4,
     "metadata": {},
     "output_type": "execute_result"
    }
   ],
   "source": [
    "df.columns\n",
    "df['survived'][3]\n",
    "ds1[[0, 2]]"
   ]
  },
  {
   "cell_type": "code",
   "execution_count": null,
   "id": "fa70056e-bf4a-488b-8d6e-c365d4994bfd",
   "metadata": {},
   "outputs": [
    {
     "data": {
      "text/plain": [
       "math       87\n",
       "history    92\n",
       "dtype: int64"
      ]
     },
     "execution_count": 5,
     "metadata": {},
     "output_type": "execute_result"
    }
   ],
   "source": [
    "ds2 = pd.Series(Mid_dic)\n",
    "ds2[['math', 'history']]"
   ]
  },
  {
   "cell_type": "code",
   "execution_count": null,
   "id": "255cd9fd-6b2a-4fe2-a022-b62f731499be",
   "metadata": {},
   "outputs": [
    {
     "name": "stdout",
     "output_type": "stream",
     "text": [
      "358 89.5\n"
     ]
    }
   ],
   "source": [
    "import numpy as np\n",
    "\n",
    "score_total = np.sum(score_list)\n",
    "score_average = np.mean(score_list)\n",
    "print(score_total, score_average)"
   ]
  },
  {
   "cell_type": "code",
   "execution_count": null,
   "id": "3382faeb-e837-4016-90db-d29f5bb0d671",
   "metadata": {},
   "outputs": [
    {
     "data": {
      "text/plain": [
       "0    87\n",
       "2    89\n",
       "3    92\n",
       "dtype: int64"
      ]
     },
     "execution_count": 7,
     "metadata": {},
     "output_type": "execute_result"
    }
   ],
   "source": [
    "del ds1[1]\n",
    "ds1[2] = 89\n",
    "ds1"
   ]
  },
  {
   "cell_type": "code",
   "execution_count": null,
   "id": "43ad42ad-f5e5-4818-b804-8dcc4623b362",
   "metadata": {},
   "outputs": [
    {
     "data": {
      "text/plain": [
       "0    87\n",
       "2    89\n",
       "3    92\n",
       "1    90\n",
       "dtype: int64"
      ]
     },
     "execution_count": 8,
     "metadata": {},
     "output_type": "execute_result"
    }
   ],
   "source": [
    "ds1[1] = 90\n",
    "ds1"
   ]
  },
  {
   "cell_type": "code",
   "execution_count": null,
   "id": "fad06eda-93c4-4aa0-aad5-08bc53ccbcef",
   "metadata": {},
   "outputs": [
    {
     "data": {
      "text/plain": [
       "0    87\n",
       "2    89\n",
       "1    90\n",
       "3    92\n",
       "dtype: int64"
      ]
     },
     "execution_count": 9,
     "metadata": {},
     "output_type": "execute_result"
    }
   ],
   "source": [
    "ds1.sort_values(ascending = True, inplace=True)\n",
    "ds1"
   ]
  },
  {
   "cell_type": "code",
   "execution_count": 24,
   "id": "f0a40809-84e0-4370-a6ff-53007b3d3c03",
   "metadata": {},
   "outputs": [
    {
     "name": "stdout",
     "output_type": "stream",
     "text": [
      "501    21.0\n",
      "502     NaN\n",
      "503    37.0\n",
      "504    16.0\n",
      "505    18.0\n",
      "506    33.0\n",
      "507     NaN\n",
      "508    28.0\n",
      "509    26.0\n",
      "510    29.0\n",
      "Name: age, dtype: float64\n",
      "250     NaN\n",
      "701    35.0\n",
      "Name: age, dtype: float64\n",
      "총합: 107.0, 평균: 21.4\n",
      "30.0\n",
      "1      38\n",
      "2      26\n",
      "3      35\n",
      "4      35\n",
      "5      30\n",
      "       ..\n",
      "886    27\n",
      "887    19\n",
      "888    30\n",
      "889    26\n",
      "890    32\n",
      "Name: age, Length: 890, dtype: int32\n"
     ]
    }
   ],
   "source": [
    "age = pd.Series(df['age'])\n",
    "\n",
    "#501 ~ 510 연령 추출\n",
    "age501 = age[501:511]\n",
    "print(age501)\n",
    "\n",
    "#250, 700 연령 참조\n",
    "print(age[[250, 701]])\n",
    "\n",
    "#40 ~ 49 연령 합계와 평균\n",
    "age4050 = age[40 : 50]\n",
    "print('총합: {}, 평균: {}'.format(age[40:50].sum(), age[40:50].mean()))\n",
    "\n",
    "#888번의 연령 NaN을 평균값으로 대체\n",
    "age[888] = round(age.mean())\n",
    "print(age[888])\n",
    "\n",
    "#1 ~ 891까지 정수로 변환\n",
    "age1891 = age[1 : 892].fillna(round(age.mean()))\n",
    "age1891 = age1891.astype('int')\n",
    "print(age1891)"
   ]
  },
  {
   "cell_type": "code",
   "execution_count": null,
   "id": "b9af78e4-afd2-4fef-8ccd-cfae80a90eb6",
   "metadata": {},
   "outputs": [],
   "source": []
  }
 ],
 "metadata": {
  "kernelspec": {
   "display_name": "Python 3 (ipykernel)",
   "language": "python",
   "name": "python3"
  },
  "language_info": {
   "codemirror_mode": {
    "name": "ipython",
    "version": 3
   },
   "file_extension": ".py",
   "mimetype": "text/x-python",
   "name": "python",
   "nbconvert_exporter": "python",
   "pygments_lexer": "ipython3",
   "version": "3.9.12"
  }
 },
 "nbformat": 4,
 "nbformat_minor": 5
}
