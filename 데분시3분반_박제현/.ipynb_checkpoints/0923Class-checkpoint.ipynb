{
 "cells": [
  {
   "cell_type": "markdown",
   "id": "36f5f42e-7fb3-4dda-ac05-cd77d62cd7c7",
   "metadata": {},
   "source": [
    "# 데이터분석과 시각화\n",
    "\n",
    "## *인공지능융합학부* ` 20226744학번 ` **박제현**\n",
    "\n",
    "### 9월 21일 수업 강의 내용\""
   ]
  },
  {
   "cell_type": "code",
   "execution_count": 8,
   "id": "17764499-f13e-4e20-8a3f-7dd8532e3670",
   "metadata": {},
   "outputs": [
    {
     "name": "stdin",
     "output_type": "stream",
     "text": [
      "number of subject?  10\n",
      "*subject 1:  korean\n",
      "*subject 2:  english\n",
      "*subject 3:  math\n",
      "*subject 4:  sociology\n",
      "*subject 5:  science\n",
      "*subject 6:  music\n",
      "*subject 7:  art\n",
      "*subject 8:  gymnasm\n",
      "*subject 9:  AIandfuture\n",
      "*subject 10:  computerprogramming\n"
     ]
    },
    {
     "name": "stdout",
     "output_type": "stream",
     "text": [
      "sub_list = ['korean', 'english', 'math', 'sociology', 'science', 'music', 'art', 'gymnasm', 'AIandfuture', 'computerprogramming']\n"
     ]
    }
   ],
   "source": [
    "def sub_input(n):\n",
    "    sub_list = []\n",
    "    for i in range(1, n + 1):\n",
    "        sub_list.append(input('*subject {}: '.format(i)))\n",
    "    return sub_list\n",
    "print('sub_list = {}'.format(sub_input(int(input('number of subject? ')))))"
   ]
  },
  {
   "cell_type": "code",
   "execution_count": 9,
   "id": "2f141980-bdc7-439f-b76c-b07055c3bd55",
   "metadata": {},
   "outputs": [
    {
     "ename": "SyntaxError",
     "evalue": "invalid syntax (3083944980.py, line 3)",
     "output_type": "error",
     "traceback": [
      "\u001b[1;36m  Input \u001b[1;32mIn [10]\u001b[1;36m\u001b[0m\n\u001b[1;33m    fori in range(1, n + 1):\u001b[0m\n\u001b[1;37m                            ^\u001b[0m\n\u001b[1;31mSyntaxError\u001b[0m\u001b[1;31m:\u001b[0m invalid syntax\n"
     ]
    }
   ],
   "source": [
    "def grade_cal(n):\n",
    "    sub_list, score_list, Mgrade_list, Mgrade_dic = [], [], [], {}\n",
    "    fori in range(1, n + 1):\n",
    "        sub = input('* subject {}: '.format(i))\n",
    "        sco = int(input('* score {}: '.format(i)))\n",
    "        sub_list.append(sub)\n",
    "        score_list.append(sco)\n",
    "        Mgrade_list.append((sub, sco))\n",
    "        Mgrade_dic[sub] = sco\n",
    "    return [sub_list, score_list, Mgrade_list, Mgrade_dic]\n",
    "print('=' * 50)"
   ]
  },
  {
   "cell_type": "code",
   "execution_count": null,
   "id": "6131a3ca-cb25-4a8d-acaa-c6aa488ead6b",
   "metadata": {},
   "outputs": [],
   "source": []
  }
 ],
 "metadata": {
  "kernelspec": {
   "display_name": "Python 3 (ipykernel)",
   "language": "python",
   "name": "python3"
  },
  "language_info": {
   "codemirror_mode": {
    "name": "ipython",
    "version": 3
   },
   "file_extension": ".py",
   "mimetype": "text/x-python",
   "name": "python",
   "nbconvert_exporter": "python",
   "pygments_lexer": "ipython3",
   "version": "3.9.12"
  }
 },
 "nbformat": 4,
 "nbformat_minor": 5
}
