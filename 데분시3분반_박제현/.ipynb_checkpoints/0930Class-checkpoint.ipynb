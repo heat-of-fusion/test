{
 "cells": [
  {
   "cell_type": "markdown",
   "id": "3c936d41-86cb-4566-a667-5d0575a1fb5c",
   "metadata": {},
   "source": [
    "# 데이터분석과 시각화\n",
    "\n",
    "## *인공지능융합학부* ` 20226744학번 ` **박제현**\n",
    "\n",
    "### 9월 28일 수업 강의 내용\""
   ]
  },
  {
   "cell_type": "code",
   "execution_count": 1,
   "id": "82062170-7a61-4b0d-8585-bbcb4ccf1748",
   "metadata": {},
   "outputs": [],
   "source": [
    "sub_list = ['math', 'english', 'science', 'history']\n",
    "score_list = [87, 94, 85, 92]\n",
    "Mid_dic= {'math': 87, 'english': 94, 'science': 85, 'history': 92}"
   ]
  },
  {
   "cell_type": "code",
   "execution_count": 2,
   "id": "d750ade3-c1b1-4fd5-a122-067757335508",
   "metadata": {},
   "outputs": [
    {
     "data": {
      "text/plain": [
       "(891, 15)"
      ]
     },
     "execution_count": 2,
     "metadata": {},
     "output_type": "execute_result"
    }
   ],
   "source": [
    "import seaborn as sb\n",
    "\n",
    "df = sb.load_dataset('titanic')\n",
    "df.shape"
   ]
  },
  {
   "cell_type": "code",
   "execution_count": 15,
   "id": "45bb4546-302d-4eb5-b52f-b8e9c0a2cb15",
   "metadata": {},
   "outputs": [
    {
     "data": {
      "text/plain": [
       "array([  7.25  ,  71.2833,   7.925 ,  53.1   ,   8.05  ,   8.4583,\n",
       "        51.8625,  21.075 ,  11.1333,  30.0708,  16.7   ,  26.55  ,\n",
       "         8.05  ,  31.275 ,   7.8542,  16.    ,  29.125 ,  13.    ,\n",
       "        18.    ,   7.225 ,  26.    ,  13.    ,   8.0292,  35.5   ,\n",
       "        21.075 ,  31.3875,   7.225 , 263.    ,   7.8792,   7.8958,\n",
       "        27.7208, 146.5208,   7.75  ,  10.5   ,  82.1708,  52.    ,\n",
       "         7.2292,   8.05  ,  18.    ,  11.2417,   9.475 ,  21.    ,\n",
       "         7.8958,  41.5792,   7.8792,   8.05  ,  15.5   ,   7.75  ,\n",
       "        21.6792,  17.8   ,  39.6875,   7.8   ,  76.7292,  26.    ,\n",
       "        61.9792,  35.5   ,  10.5   ,   7.2292,  27.75  ,  46.9   ,\n",
       "         7.2292,  80.    ,  83.475 ,  27.9   ,  27.7208,  15.2458,\n",
       "        10.5   ,   8.1583,   7.925 ,   8.6625,  10.5   ,  46.9   ,\n",
       "        73.5   ,  14.4542,  56.4958,   7.65  ,   7.8958,   8.05  ,\n",
       "        29.    ,  12.475 ,   9.    ,   9.5   ,   7.7875,  47.1   ,\n",
       "        10.5   ,  15.85  ,  34.375 ,   8.05  , 263.    ,   8.05  ,\n",
       "         8.05  ,   7.8542,  61.175 ,  20.575 ,   7.25  ,   8.05  ,\n",
       "        34.6542,  63.3583,  23.    ,  26.    ,   7.8958,   7.8958,\n",
       "        77.2875,   8.6542,   7.925 ,   7.8958,   7.65  ,   7.775 ,\n",
       "         7.8958,  24.15  ,  52.    ,  14.4542,   8.05  ,   9.825 ,\n",
       "        14.4583,   7.925 ,   7.75  ,  21.    , 247.5208,  31.275 ,\n",
       "        73.5   ,   8.05  ,  30.0708,  13.    ,  77.2875,  11.2417,\n",
       "         7.75  ,   7.1417,  22.3583,   6.975 ,   7.8958,   7.05  ,\n",
       "        14.5   ,  26.    ,  13.    ,  15.0458,  26.2833,  53.1   ,\n",
       "         9.2167,  79.2   ,  15.2458,   7.75  ,  15.85  ,   6.75  ,\n",
       "        11.5   ,  36.75  ,   7.7958,  34.375 ,  26.    ,  13.    ,\n",
       "        12.525 ,  66.6   ,   8.05  ,  14.5   ,   7.3125,  61.3792,\n",
       "         7.7333,   8.05  ,   8.6625,  69.55  ,  16.1   ,  15.75  ,\n",
       "         7.775 ,   8.6625,  39.6875,  20.525 ,  55.    ,  27.9   ,\n",
       "        25.925 ,  56.4958,  33.5   ,  29.125 ,  11.1333,   7.925 ,\n",
       "        30.6958,   7.8542,  25.4667,  28.7125,  13.    ,   0.    ,\n",
       "        69.55  ,  15.05  ,  31.3875,  39.    ,  22.025 ,  50.    ,\n",
       "        15.5   ,  26.55  ,  15.5   ,   7.8958,  13.    ,  13.    ,\n",
       "         7.8542,  26.    ,  27.7208, 146.5208,   7.75  ,   8.4042,\n",
       "         7.75  ,  13.    ,   9.5   ,  69.55  ,   6.4958,   7.225 ,\n",
       "         8.05  ,  10.4625,  15.85  ,  18.7875,   7.75  ,  31.    ,\n",
       "         7.05  ,  21.    ,   7.25  ,  13.    ,   7.75  , 113.275 ,\n",
       "         7.925 ,  27.    ,  76.2917,  10.5   ,   8.05  ,  13.    ,\n",
       "         8.05  ,   7.8958,  90.    ,   9.35  ,  10.5   ,   7.25  ,\n",
       "        13.    ,  25.4667,  83.475 ,   7.775 ,  13.5   ,  31.3875,\n",
       "        10.5   ,   7.55  ,  26.    ,  26.25  ,  10.5   ,  12.275 ,\n",
       "        14.4542,  15.5   ,  10.5   ,   7.125 ,   7.225 ,  90.    ,\n",
       "         7.775 ,  14.5   ,  52.5542,  26.    ,   7.25  ,  10.4625,\n",
       "        26.55  ,  16.1   ,  20.2125,  15.2458,  79.2   ,  86.5   ,\n",
       "       512.3292,  26.    ,   7.75  ,  31.3875,  79.65  ,   0.    ,\n",
       "         7.75  ,  10.5   ,  39.6875,   7.775 , 153.4625, 135.6333,\n",
       "        31.    ,   0.    ,  19.5   ,  29.7   ,   7.75  ,  77.9583,\n",
       "         7.75  ,   0.    ,  29.125 ,  20.25  ,   7.75  ,   7.8542,\n",
       "         9.5   ,   8.05  ,  26.    ,   8.6625,   9.5   ,   7.8958,\n",
       "        13.    ,   7.75  ,  78.85  ,  91.0792,  12.875 ,   8.85  ,\n",
       "         7.8958,  27.7208,   7.2292, 151.55  ,  30.5   , 247.5208,\n",
       "         7.75  ,  23.25  ,   0.    ,  12.35  ,   8.05  , 151.55  ,\n",
       "       110.8833, 108.9   ,  24.    ,  56.9292,  83.1583, 262.375 ,\n",
       "        26.    ,   7.8958,  26.25  ,   7.8542,  26.    ,  14.    ,\n",
       "       164.8667, 134.5   ,   7.25  ,   7.8958,  12.35  ,  29.    ,\n",
       "        69.55  , 135.6333,   6.2375,  13.    ,  20.525 ,  57.9792,\n",
       "        23.25  ,  28.5   , 153.4625,  18.    , 133.65  ,   7.8958,\n",
       "        66.6   , 134.5   ,   8.05  ,  35.5   ,  26.    , 263.    ,\n",
       "        13.    ,  13.    ,  13.    ,  13.    ,  13.    ,  16.1   ,\n",
       "        15.9   ,   8.6625,   9.225 ,  35.    ,   7.2292,  17.8   ,\n",
       "         7.225 ,   9.5   ,  55.    ,  13.    ,   7.8792,   7.8792,\n",
       "        27.9   ,  27.7208,  14.4542,   7.05  ,  15.5   ,   7.25  ,\n",
       "        75.25  ,   7.2292,   7.75  ,  69.3   ,  55.4417,   6.4958,\n",
       "         8.05  , 135.6333,  21.075 ,  82.1708,   7.25  , 211.5   ,\n",
       "         4.0125,   7.775 , 227.525 ,  15.7417,   7.925 ,  52.    ,\n",
       "         7.8958,  73.5   ,  46.9   ,  13.    ,   7.7292,  12.    ,\n",
       "       120.    ,   7.7958,   7.925 , 113.275 ,  16.7   ,   7.7958,\n",
       "         7.8542,  26.    ,  10.5   ,  12.65  ,   7.925 ,   8.05  ,\n",
       "         9.825 ,  15.85  ,   8.6625,  21.    ,   7.75  ,  18.75  ,\n",
       "         7.775 ,  25.4667,   7.8958,   6.8583,  90.    ,   0.    ,\n",
       "         7.925 ,   8.05  ,  32.5   ,  13.    ,  13.    ,  24.15  ,\n",
       "         7.8958,   7.7333,   7.875 ,  14.4   ,  20.2125,   7.25  ,\n",
       "        26.    ,  26.    ,   7.75  ,   8.05  ,  26.55  ,  16.1   ,\n",
       "        26.    ,   7.125 ,  55.9   , 120.    ,  34.375 ,  18.75  ,\n",
       "       263.    ,  10.5   ,  26.25  ,   9.5   ,   7.775 ,  13.    ,\n",
       "         8.1125,  81.8583,  19.5   ,  26.55  ,  19.2583,  30.5   ,\n",
       "        27.75  ,  19.9667,  27.75  ,  89.1042,   8.05  ,   7.8958,\n",
       "        26.55  ,  51.8625,  10.5   ,   7.75  ,  26.55  ,   8.05  ,\n",
       "        38.5   ,  13.    ,   8.05  ,   7.05  ,   0.    ,  26.55  ,\n",
       "         7.725 ,  19.2583,   7.25  ,   8.6625,  27.75  ,  13.7917,\n",
       "         9.8375,  52.    ,  21.    ,   7.0458,   7.5208,  12.2875,\n",
       "        46.9   ,   0.    ,   8.05  ,   9.5875,  91.0792,  25.4667,\n",
       "        90.    ,  29.7   ,   8.05  ,  15.9   ,  19.9667,   7.25  ,\n",
       "        30.5   ,  49.5042,   8.05  ,  14.4583,  78.2667,  15.1   ,\n",
       "       151.55  ,   7.7958,   8.6625,   7.75  ,   7.6292,   9.5875,\n",
       "        86.5   , 108.9   ,  26.    ,  26.55  ,  22.525 ,  56.4958,\n",
       "         7.75  ,   8.05  ,  26.2875,  59.4   ,   7.4958,  34.0208,\n",
       "        10.5   ,  24.15  ,  26.    ,   7.8958,  93.5   ,   7.8958,\n",
       "         7.225 ,  57.9792,   7.2292,   7.75  ,  10.5   , 221.7792,\n",
       "         7.925 ,  11.5   ,  26.    ,   7.2292,   7.2292,  22.3583,\n",
       "         8.6625,  26.25  ,  26.55  , 106.425 ,  14.5   ,  49.5   ,\n",
       "        71.    ,  31.275 ,  31.275 ,  26.    , 106.425 ,  26.    ,\n",
       "        26.    ,  13.8625,  20.525 ,  36.75  , 110.8833,  26.    ,\n",
       "         7.8292,   7.225 ,   7.775 ,  26.55  ,  39.6   , 227.525 ,\n",
       "        79.65  ,  17.4   ,   7.75  ,   7.8958,  13.5   ,   8.05  ,\n",
       "         8.05  ,  24.15  ,   7.8958,  21.075 ,   7.2292,   7.8542,\n",
       "        10.5   ,  51.4792,  26.3875,   7.75  ,   8.05  ,  14.5   ,\n",
       "        13.    ,  55.9   ,  14.4583,   7.925 ,  30.    , 110.8833,\n",
       "        26.    ,  40.125 ,   8.7125,  79.65  ,  15.    ,  79.2   ,\n",
       "         8.05  ,   8.05  ,   7.125 ,  78.2667,   7.25  ,   7.75  ,\n",
       "        26.    ,  24.15  ,  33.    ,   0.    ,   7.225 ,  56.9292,\n",
       "        27.    ,   7.8958,  42.4   ,   8.05  ,  26.55  ,  15.55  ,\n",
       "         7.8958,  30.5   ,  41.5792, 153.4625,  31.275 ,   7.05  ,\n",
       "        15.5   ,   7.75  ,   8.05  ,  65.    ,  14.4   ,  16.1   ,\n",
       "        39.    ,  10.5   ,  14.4542,  52.5542,  15.7417,   7.8542,\n",
       "        16.1   ,  32.3208,  12.35  ,  77.9583,   7.8958,   7.7333,\n",
       "        30.    ,   7.0542,  30.5   ,   0.    ,  27.9   ,  13.    ,\n",
       "         7.925 ,  26.25  ,  39.6875,  16.1   ,   7.8542,  69.3   ,\n",
       "        27.9   ,  56.4958,  19.2583,  76.7292,   7.8958,  35.5   ,\n",
       "         7.55  ,   7.55  ,   7.8958,  23.    ,   8.4333,   7.8292,\n",
       "         6.75  ,  73.5   ,   7.8958,  15.5   ,  13.    , 113.275 ,\n",
       "       133.65  ,   7.225 ,  25.5875,   7.4958,   7.925 ,  73.5   ,\n",
       "        13.    ,   7.775 ,   8.05  ,  52.    ,  39.    ,  52.    ,\n",
       "        10.5   ,  13.    ,   0.    ,   7.775 ,   8.05  ,   9.8417,\n",
       "        46.9   , 512.3292,   8.1375,  76.7292,   9.225 ,  46.9   ,\n",
       "        39.    ,  41.5792,  39.6875,  10.1708,   7.7958, 211.3375,\n",
       "        57.    ,  13.4167,  56.4958,   7.225 ,  26.55  ,  13.5   ,\n",
       "         8.05  ,   7.7333, 110.8833,   7.65  , 227.525 ,  26.2875,\n",
       "        14.4542,   7.7417,   7.8542,  26.    ,  13.5   ,  26.2875,\n",
       "       151.55  ,  15.2458,  49.5042,  26.55  ,  52.    ,   9.4833,\n",
       "        13.    ,   7.65  , 227.525 ,  10.5   ,  15.5   ,   7.775 ,\n",
       "        33.    ,   7.0542,  13.    ,  13.    ,  53.1   ,   8.6625,\n",
       "        21.    ,   7.7375,  26.    ,   7.925 , 211.3375,  18.7875,\n",
       "         0.    ,  13.    ,  13.    ,  16.1   ,  34.375 , 512.3292,\n",
       "         7.8958,   7.8958,  30.    ,  78.85  , 262.375 ,  16.1   ,\n",
       "         7.925 ,  71.    ,  20.25  ,  13.    ,  53.1   ,   7.75  ,\n",
       "        23.    ,  12.475 ,   9.5   ,   7.8958,  65.    ,  14.5   ,\n",
       "         7.7958,  11.5   ,   8.05  ,  86.5   ,  14.5   ,   7.125 ,\n",
       "         7.2292, 120.    ,   7.775 ,  77.9583,  39.6   ,   7.75  ,\n",
       "        24.15  ,   8.3625,   9.5   ,   7.8542,  10.5   ,   7.225 ,\n",
       "        23.    ,   7.75  ,   7.75  ,  12.475 ,   7.7375, 211.3375,\n",
       "         7.2292,  57.    ,  30.    ,  23.45  ,   7.05  ,   7.25  ,\n",
       "         7.4958,  29.125 ,  20.575 ,  79.2   ,   7.75  ,  26.    ,\n",
       "        69.55  ,  30.6958,   7.8958,  13.    ,  25.9292,   8.6833,\n",
       "         7.2292,  24.15  ,  13.    ,  26.25  , 120.    ,   8.5167,\n",
       "         6.975 ,   7.775 ,   0.    ,   7.775 ,  13.    ,  53.1   ,\n",
       "         7.8875,  24.15  ,  10.5   ,  31.275 ,   8.05  ,   0.    ,\n",
       "         7.925 ,  37.0042,   6.45  ,  27.9   ,  93.5   ,   8.6625,\n",
       "         0.    ,  12.475 ,  39.6875,   6.95  ,  56.4958,  37.0042,\n",
       "         7.75  ,  80.    ,  14.4542,  18.75  ,   7.2292,   7.8542,\n",
       "         8.3   ,  83.1583,   8.6625,   8.05  ,  56.4958,  29.7   ,\n",
       "         7.925 ,  10.5   ,  31.    ,   6.4375,   8.6625,   7.55  ,\n",
       "        69.55  ,   7.8958,  33.    ,  89.1042,  31.275 ,   7.775 ,\n",
       "        15.2458,  39.4   ,  26.    ,   9.35  , 164.8667,  26.55  ,\n",
       "        19.2583,   7.2292,  14.1083,  11.5   ,  25.9292,  69.55  ,\n",
       "        13.    ,  13.    ,  13.8583,  50.4958,   9.5   ,  11.1333,\n",
       "         7.8958,  52.5542,   5.    ,   9.    ,  24.    ,   7.225 ,\n",
       "         9.8458,   7.8958,   7.8958,  83.1583,  26.    ,   7.8958,\n",
       "        10.5167,  10.5   ,   7.05  ,  29.125 ,  13.    ,  30.    ,\n",
       "        23.45  ,  30.    ,   7.75  ])"
      ]
     },
     "execution_count": 15,
     "metadata": {},
     "output_type": "execute_result"
    }
   ],
   "source": [
    "df ['fare'].values"
   ]
  },
  {
   "cell_type": "code",
   "execution_count": 21,
   "id": "17b3dc8e-49c3-49e0-81fb-b82f640391ad",
   "metadata": {},
   "outputs": [
    {
     "data": {
      "text/plain": [
       "15.860840000000001"
      ]
     },
     "execution_count": 21,
     "metadata": {},
     "output_type": "execute_result"
    }
   ],
   "source": [
    "df['fare'][0]\n",
    "df['fare'][501:511]\n",
    "df['fare'][[250, 700, 810]]\n",
    "df['fare'][40:50].sum().round(2)\n",
    "df['fare'][40:50].mean()"
   ]
  },
  {
   "cell_type": "code",
   "execution_count": 22,
   "id": "51d3af45-2811-473f-af6a-751eb8588bd0",
   "metadata": {},
   "outputs": [
    {
     "name": "stderr",
     "output_type": "stream",
     "text": [
      "C:\\Users\\AI_Workspace\\AppData\\Local\\Temp\\ipykernel_5664\\1394429927.py:1: SettingWithCopyWarning: \n",
      "A value is trying to be set on a copy of a slice from a DataFrame\n",
      "\n",
      "See the caveats in the documentation: https://pandas.pydata.org/pandas-docs/stable/user_guide/indexing.html#returning-a-view-versus-a-copy\n",
      "  df['fare'][888] = df['fare'].mean()\n"
     ]
    },
    {
     "data": {
      "text/plain": [
       "32.2042079685746"
      ]
     },
     "execution_count": 22,
     "metadata": {},
     "output_type": "execute_result"
    }
   ],
   "source": [
    "df['fare'][888] = df['fare'].mean()\n",
    "df['fare'][888]"
   ]
  },
  {
   "cell_type": "code",
   "execution_count": 26,
   "id": "49729892-cea5-48c3-8d28-ea3141d07cef",
   "metadata": {},
   "outputs": [
    {
     "data": {
      "text/plain": [
       "2       7.250000\n",
       "3      71.283300\n",
       "4       7.925000\n",
       "5      53.100000\n",
       "6       8.050000\n",
       "         ...    \n",
       "888    13.000000\n",
       "889    30.000000\n",
       "890    32.204208\n",
       "891    30.000000\n",
       "892     7.750000\n",
       "Name: fare, Length: 891, dtype: float64"
      ]
     },
     "execution_count": 26,
     "metadata": {},
     "output_type": "execute_result"
    }
   ],
   "source": [
    "# df['fare'].index = [i + 1 for i in range(len(df.index))]\n",
    "df['fare'].index = df['fare'].index + 1\n",
    "df['fare']"
   ]
  },
  {
   "cell_type": "code",
   "execution_count": 50,
   "id": "50e4aec2-64ba-4d1c-b583-05894c895530",
   "metadata": {},
   "outputs": [
    {
     "name": "stdout",
     "output_type": "stream",
     "text": [
      "sem_dic = {'subject': ['math', 'english', 'science', 'history'], 'M_scr': [87, 94, 85, 92], 'F_scr': [91, 98, 89, 96]}\n",
      "RangeIndex(start=0, stop=4, step=1)\n",
      "Index(['subject', 'M_scr', 'F_scr'], dtype='object')\n",
      "[['math' 87 91]\n",
      " ['english' 94 98]\n",
      " ['science' 85 89]\n",
      " ['history' 92 96]]\n"
     ]
    },
    {
     "data": {
      "text/html": [
       "<div>\n",
       "<style scoped>\n",
       "    .dataframe tbody tr th:only-of-type {\n",
       "        vertical-align: middle;\n",
       "    }\n",
       "\n",
       "    .dataframe tbody tr th {\n",
       "        vertical-align: top;\n",
       "    }\n",
       "\n",
       "    .dataframe thead th {\n",
       "        text-align: right;\n",
       "    }\n",
       "</style>\n",
       "<table border=\"1\" class=\"dataframe\">\n",
       "  <thead>\n",
       "    <tr style=\"text-align: right;\">\n",
       "      <th></th>\n",
       "      <th>subject</th>\n",
       "      <th>M_scr</th>\n",
       "      <th>F_scr</th>\n",
       "    </tr>\n",
       "  </thead>\n",
       "  <tbody>\n",
       "    <tr>\n",
       "      <th>0</th>\n",
       "      <td>math</td>\n",
       "      <td>87</td>\n",
       "      <td>91</td>\n",
       "    </tr>\n",
       "    <tr>\n",
       "      <th>1</th>\n",
       "      <td>english</td>\n",
       "      <td>94</td>\n",
       "      <td>98</td>\n",
       "    </tr>\n",
       "    <tr>\n",
       "      <th>2</th>\n",
       "      <td>science</td>\n",
       "      <td>85</td>\n",
       "      <td>89</td>\n",
       "    </tr>\n",
       "    <tr>\n",
       "      <th>3</th>\n",
       "      <td>history</td>\n",
       "      <td>92</td>\n",
       "      <td>96</td>\n",
       "    </tr>\n",
       "  </tbody>\n",
       "</table>\n",
       "</div>"
      ],
      "text/plain": [
       "   subject  M_scr  F_scr\n",
       "0     math     87     91\n",
       "1  english     94     98\n",
       "2  science     85     89\n",
       "3  history     92     96"
      ]
     },
     "execution_count": 50,
     "metadata": {},
     "output_type": "execute_result"
    }
   ],
   "source": [
    "import pandas as pd\n",
    "\n",
    "sem_dic = {'subject': sub_list, 'M_scr': score_list, 'F_scr': [i + 4 for i in score_list]}\n",
    "print('sem_dic = {}'.format(sem_dic))\n",
    "\n",
    "df1 = pd.DataFrame(sem_dic)\n",
    "print(df1.index)\n",
    "print(df1.columns)\n",
    "print(df1.values)\n",
    "df1"
   ]
  },
  {
   "cell_type": "code",
   "execution_count": 49,
   "id": "4398deba-e8ad-4e97-a125-1f1995111d35",
   "metadata": {},
   "outputs": [
    {
     "data": {
      "text/html": [
       "<div>\n",
       "<style scoped>\n",
       "    .dataframe tbody tr th:only-of-type {\n",
       "        vertical-align: middle;\n",
       "    }\n",
       "\n",
       "    .dataframe tbody tr th {\n",
       "        vertical-align: top;\n",
       "    }\n",
       "\n",
       "    .dataframe thead th {\n",
       "        text-align: right;\n",
       "    }\n",
       "</style>\n",
       "<table border=\"1\" class=\"dataframe\">\n",
       "  <thead>\n",
       "    <tr style=\"text-align: right;\">\n",
       "      <th></th>\n",
       "      <th>a</th>\n",
       "      <th>b</th>\n",
       "      <th>c</th>\n",
       "    </tr>\n",
       "  </thead>\n",
       "  <tbody>\n",
       "    <tr>\n",
       "      <th>M_scr</th>\n",
       "      <td>1</td>\n",
       "      <td>2</td>\n",
       "      <td>3</td>\n",
       "    </tr>\n",
       "    <tr>\n",
       "      <th>F_scr</th>\n",
       "      <td>4</td>\n",
       "      <td>5</td>\n",
       "      <td>6</td>\n",
       "    </tr>\n",
       "  </tbody>\n",
       "</table>\n",
       "</div>"
      ],
      "text/plain": [
       "       a  b  c\n",
       "M_scr  1  2  3\n",
       "F_scr  4  5  6"
      ]
     },
     "execution_count": 49,
     "metadata": {},
     "output_type": "execute_result"
    }
   ],
   "source": [
    "df2 = pd.DataFrame([[1, 2, 3], [4, 5, 6]], columns=['a', 'b', 'c'], index=['M_scr', 'F_scr'])\n",
    "df2"
   ]
  },
  {
   "cell_type": "code",
   "execution_count": null,
   "id": "becec7d2-9f45-46b5-adb3-3563cdcd6ddb",
   "metadata": {},
   "outputs": [
    {
     "data": {
      "text/html": [
       "<div>\n",
       "<style scoped>\n",
       "    .dataframe tbody tr th:only-of-type {\n",
       "        vertical-align: middle;\n",
       "    }\n",
       "\n",
       "    .dataframe tbody tr th {\n",
       "        vertical-align: top;\n",
       "    }\n",
       "\n",
       "    .dataframe thead th {\n",
       "        text-align: right;\n",
       "    }\n",
       "</style>\n",
       "<table border=\"1\" class=\"dataframe\">\n",
       "  <thead>\n",
       "    <tr style=\"text-align: right;\">\n",
       "      <th></th>\n",
       "      <th>0</th>\n",
       "      <th>1</th>\n",
       "      <th>2</th>\n",
       "      <th>3</th>\n",
       "    </tr>\n",
       "  </thead>\n",
       "  <tbody>\n",
       "    <tr>\n",
       "      <th>subject</th>\n",
       "      <td>math</td>\n",
       "      <td>english</td>\n",
       "      <td>science</td>\n",
       "      <td>history</td>\n",
       "    </tr>\n",
       "    <tr>\n",
       "      <th>M_scr</th>\n",
       "      <td>87</td>\n",
       "      <td>94</td>\n",
       "      <td>85</td>\n",
       "      <td>92</td>\n",
       "    </tr>\n",
       "    <tr>\n",
       "      <th>F_scr</th>\n",
       "      <td>88</td>\n",
       "      <td>95</td>\n",
       "      <td>86</td>\n",
       "      <td>93</td>\n",
       "    </tr>\n",
       "  </tbody>\n",
       "</table>\n",
       "</div>"
      ],
      "text/plain": [
       "            0        1        2        3\n",
       "subject  math  english  science  history\n",
       "M_scr      87       94       85       92\n",
       "F_scr      88       95       86       93"
      ]
     },
     "execution_count": 52,
     "metadata": {},
     "output_type": "execute_result"
    }
   ],
   "source": [
    "df3 = pd.DataFrame([sub_list, score_list, [i + 1 for i in score_list]], columns=[0, 1, 2, 3], index=['subject', 'M_scr', 'F_scr'])\n",
    "df3"
   ]
  },
  {
   "cell_type": "code",
   "execution_count": null,
   "id": "d01c5f5f-9541-46eb-b012-464139c9278a",
   "metadata": {},
   "outputs": [
    {
     "name": "stderr",
     "output_type": "stream",
     "text": [
      "C:\\Users\\AI_Workspace\\AppData\\Local\\Temp\\ipykernel_5664\\3703829399.py:2: FutureWarning: Dropping of nuisance columns in DataFrame reductions (with 'numeric_only=None') is deprecated; in a future version this will raise TypeError.  Select only valid columns before calling the reduction.\n",
      "  s = df1.mean()\n"
     ]
    },
    {
     "data": {
      "text/plain": [
       "array([89.5, 93.5])"
      ]
     },
     "execution_count": 60,
     "metadata": {},
     "output_type": "execute_result"
    }
   ],
   "source": [
    "df1['M_scr']\n",
    "s = df1.mean()\n",
    "s.values"
   ]
  },
  {
   "cell_type": "code",
   "execution_count": null,
   "id": "7bf94427-fd52-4ff0-82ff-c427e03c238c",
   "metadata": {},
   "outputs": [
    {
     "name": "stdout",
     "output_type": "stream",
     "text": [
      "math 178\n",
      "english 192\n",
      "science 174\n",
      "history 188\n"
     ]
    }
   ],
   "source": [
    "for i in range(len(df1.index)):\n",
    "    r_sum = 0\n",
    "    for j in range(1, len(df1.columns)):\n",
    "        r_sum += df1[df1.columns[j]][i]\n",
    "    print(df1[df1.columns[0]][i], r_sum)\n",
    "    # print(df1['subject'][i], r_sum)"
   ]
  },
  {
   "cell_type": "code",
   "execution_count": 89,
   "id": "dc28fde1-447d-46ea-8d09-347a826e9db0",
   "metadata": {},
   "outputs": [
    {
     "data": {
      "text/html": [
       "<div>\n",
       "<style scoped>\n",
       "    .dataframe tbody tr th:only-of-type {\n",
       "        vertical-align: middle;\n",
       "    }\n",
       "\n",
       "    .dataframe tbody tr th {\n",
       "        vertical-align: top;\n",
       "    }\n",
       "\n",
       "    .dataframe thead th {\n",
       "        text-align: right;\n",
       "    }\n",
       "</style>\n",
       "<table border=\"1\" class=\"dataframe\">\n",
       "  <thead>\n",
       "    <tr style=\"text-align: right;\">\n",
       "      <th></th>\n",
       "      <th>M_scr</th>\n",
       "      <th>F_scr</th>\n",
       "    </tr>\n",
       "    <tr>\n",
       "      <th>subject</th>\n",
       "      <th></th>\n",
       "      <th></th>\n",
       "    </tr>\n",
       "  </thead>\n",
       "  <tbody>\n",
       "    <tr>\n",
       "      <th>math</th>\n",
       "      <td>87</td>\n",
       "      <td>91</td>\n",
       "    </tr>\n",
       "    <tr>\n",
       "      <th>english</th>\n",
       "      <td>94</td>\n",
       "      <td>98</td>\n",
       "    </tr>\n",
       "    <tr>\n",
       "      <th>science</th>\n",
       "      <td>85</td>\n",
       "      <td>89</td>\n",
       "    </tr>\n",
       "    <tr>\n",
       "      <th>history</th>\n",
       "      <td>92</td>\n",
       "      <td>96</td>\n",
       "    </tr>\n",
       "  </tbody>\n",
       "</table>\n",
       "</div>"
      ],
      "text/plain": [
       "         M_scr  F_scr\n",
       "subject              \n",
       "math        87     91\n",
       "english     94     98\n",
       "science     85     89\n",
       "history     92     96"
      ]
     },
     "execution_count": 89,
     "metadata": {},
     "output_type": "execute_result"
    }
   ],
   "source": [
    "df1.set_index(keys = ['subject'], inplace = False)"
   ]
  },
  {
   "cell_type": "code",
   "execution_count": null,
   "id": "7485398b-9c40-4382-bf9a-95b3256f11be",
   "metadata": {},
   "outputs": [],
   "source": []
  }
 ],
 "metadata": {
  "kernelspec": {
   "display_name": "Python 3 (ipykernel)",
   "language": "python",
   "name": "python3"
  },
  "language_info": {
   "codemirror_mode": {
    "name": "ipython",
    "version": 3
   },
   "file_extension": ".py",
   "mimetype": "text/x-python",
   "name": "python",
   "nbconvert_exporter": "python",
   "pygments_lexer": "ipython3",
   "version": "3.9.12"
  }
 },
 "nbformat": 4,
 "nbformat_minor": 5
}
