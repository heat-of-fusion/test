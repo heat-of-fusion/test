{
 "cells": [
  {
   "cell_type": "markdown",
   "id": "6eb3ea45-a2dc-4093-9b62-b095495472d0",
   "metadata": {},
   "source": [
    "# 데이터분석과 시각화\n",
    "\n",
    "## *인공지능융합학부* ` 20226744학번 ` **박제현**\n",
    "\n",
    "### 9월 16일 수업 강의 내용"
   ]
  },
  {
   "cell_type": "code",
   "execution_count": 1,
   "id": "107ccc81-8f83-4d44-9def-bd3816a148ff",
   "metadata": {},
   "outputs": [],
   "source": [
    "# 9월 16일 데이터 분석과 시각화 수업\n",
    "\n",
    "Mid_dic= {'math': 87, 'english': 94, 'science': 85, 'history': 92}\n",
    "sub_list = ['math', 'english', 'science', 'history']\n",
    "score_list = [87, 94, 85, 92]"
   ]
  },
  {
   "cell_type": "code",
   "execution_count": 2,
   "id": "a57e1d2c-e006-4859-8f5f-b0b6daf5f42b",
   "metadata": {},
   "outputs": [
    {
     "data": {
      "text/plain": [
       "1"
      ]
     },
     "execution_count": 2,
     "metadata": {},
     "output_type": "execute_result"
    }
   ],
   "source": [
    "import seaborn as sb\n",
    "\n",
    "df = sb.load_dataset('titanic')\n",
    "df['survived'][3]"
   ]
  },
  {
   "cell_type": "code",
   "execution_count": 3,
   "id": "38716600-0f94-4607-a752-788af78094bd",
   "metadata": {},
   "outputs": [
    {
     "name": "stdout",
     "output_type": "stream",
     "text": [
      "Mid_sum= 358 , Mid_avr= 89.5, Mid_mul= 63951960\n"
     ]
    }
   ],
   "source": [
    "Mid_sum = 0\n",
    "Mid_mul = 1\n",
    "for i in score_list:\n",
    "    Mid_sum += i\n",
    "    Mid_mul *= i\n",
    "print('Mid_sum= {} , Mid_avr= {:.1f}, Mid_mul= {}'.format(Mid_sum, Mid_sum / len(sub_list), Mid_mul))"
   ]
  },
  {
   "cell_type": "code",
   "execution_count": 4,
   "id": "7e96c056-9d3f-4dac-8182-ae46e342e920",
   "metadata": {},
   "outputs": [
    {
     "name": "stdout",
     "output_type": "stream",
     "text": [
      "Mid_sum= 358 , Mid_avr= 89.5\n"
     ]
    }
   ],
   "source": [
    "import numpy as np\n",
    "dic_s = np.sum(score_list)\n",
    "dic_a = np.average(score_list)\n",
    "print('Mid_sum= {} , Mid_avr= {:.1f}'.format(dic_s, dic_a))"
   ]
  },
  {
   "cell_type": "code",
   "execution_count": 5,
   "id": "da99ca4f-6840-4a91-ab89-12203ac64ec3",
   "metadata": {},
   "outputs": [
    {
     "name": "stdout",
     "output_type": "stream",
     "text": [
      "[[1 1 4]\n",
      " [6 6 6]]\n"
     ]
    }
   ],
   "source": [
    "a = np.array([[1, 2, 3], [4, 5, 6]])\n",
    "b = np.array([[0, -1, 1], [2, 1, 0]])\n",
    "print(a + b)"
   ]
  },
  {
   "cell_type": "code",
   "execution_count": 6,
   "id": "92f66693-7f10-40e1-800f-9cfe314c2137",
   "metadata": {},
   "outputs": [
    {
     "name": "stdout",
     "output_type": "stream",
     "text": [
      "['math', 'english', 'science', 'history']\n",
      "[87, 94, 85, 92]\n"
     ]
    }
   ],
   "source": [
    "sub_list2 = []\n",
    "score_list2 = []\n",
    "for i in Mid_dic:\n",
    "    sub_list2.append(i)\n",
    "    score_list2.append(Mid_dic[i])\n",
    "print(sub_list2)\n",
    "print(score_list2)"
   ]
  },
  {
   "cell_type": "code",
   "execution_count": 7,
   "id": "74c6f8f4-0d76-44ee-829a-61308dd82d31",
   "metadata": {
    "tags": []
   },
   "outputs": [
    {
     "name": "stdout",
     "output_type": "stream",
     "text": [
      "['english', 'history', 'math', 'science']\n",
      "[94, 92, 87, 85]\n"
     ]
    }
   ],
   "source": [
    "index_z_list = [sub[0] for sub in sub_list]\n",
    "sub_list2 = []\n",
    "for i in range(len(sub_list)):\n",
    "    sub_list2.append(sub_list[index_z_list.index(min(index_z_list))])\n",
    "    index_z_list[index_z_list.index(min(index_z_list))] = 'zzzzzzzzzzzz'\n",
    "print(sub_list2)\n",
    "score_list2.sort(reverse = True)\n",
    "print(score_list2)"
   ]
  },
  {
   "cell_type": "code",
   "execution_count": 8,
   "id": "68f30bdc-a219-4083-8580-86e78f8ff168",
   "metadata": {
    "tags": []
   },
   "outputs": [
    {
     "name": "stdout",
     "output_type": "stream",
     "text": [
      "['math', 'english', 'science', 'history']\n"
     ]
    }
   ],
   "source": [
    "sub_list3 = [key for key in Mid_dic.keys()]\n",
    "print(sub_list3)"
   ]
  },
  {
   "cell_type": "code",
   "execution_count": 9,
   "id": "c6b14768-4d0b-4eff-9fe6-721e306376a7",
   "metadata": {},
   "outputs": [
    {
     "name": "stdout",
     "output_type": "stream",
     "text": [
      "[87, 94, 85, 92]\n"
     ]
    }
   ],
   "source": [
    "Mid_dic.values()\n",
    "score_list3 = [value for value in Mid_dic.values()]\n",
    "print(score_list3)"
   ]
  },
  {
   "cell_type": "code",
   "execution_count": 10,
   "id": "f9cdc3f3-7206-4520-b0ab-6858f0a56d06",
   "metadata": {},
   "outputs": [
    {
     "data": {
      "text/plain": [
       "89.5"
      ]
     },
     "execution_count": 10,
     "metadata": {},
     "output_type": "execute_result"
    }
   ],
   "source": [
    "sum(Mid_dic.values())/len(Mid_dic)"
   ]
  },
  {
   "cell_type": "code",
   "execution_count": null,
   "id": "fc968e7c-78da-4552-951d-3b97d490b4dc",
   "metadata": {},
   "outputs": [],
   "source": [
    "def cir_area(r):\n",
    "    pi = 3.14\n",
    "    \n",
    "    area = pi * r ** 2\n",
    "    return area"
   ]
  },
  {
   "cell_type": "code",
   "execution_count": 18,
   "id": "aa78c3ab-ae60-4aec-89e1-860ecd3fb19c",
   "metadata": {},
   "outputs": [
    {
     "name": "stdin",
     "output_type": "stream",
     "text": [
      "*subject 0:  math\n",
      "*subject 1:  science\n",
      "*subject 2:  english\n",
      "*subject 3:  history\n"
     ]
    },
    {
     "name": "stdout",
     "output_type": "stream",
     "text": [
      "sub_list = ['math', 'science', 'english', 'history']\n"
     ]
    }
   ],
   "source": [
    "def sub_input():\n",
    "    sub_list = []\n",
    "    for i in range(4):\n",
    "        exec('sub_list.append(input(\"*subject {}: \"))'.format(i))\n",
    "    return sub_list\n",
    "print('sub_list = {}'.format(sub_input()))"
   ]
  },
  {
   "cell_type": "code",
   "execution_count": null,
   "id": "5c6f9aee-50fb-4eba-875e-5ab2c6389a0c",
   "metadata": {},
   "outputs": [],
   "source": []
  }
 ],
 "metadata": {
  "kernelspec": {
   "display_name": "Python 3 (ipykernel)",
   "language": "python",
   "name": "python3"
  },
  "language_info": {
   "codemirror_mode": {
    "name": "ipython",
    "version": 3
   },
   "file_extension": ".py",
   "mimetype": "text/x-python",
   "name": "python",
   "nbconvert_exporter": "python",
   "pygments_lexer": "ipython3",
   "version": "3.9.12"
  }
 },
 "nbformat": 4,
 "nbformat_minor": 5
}
