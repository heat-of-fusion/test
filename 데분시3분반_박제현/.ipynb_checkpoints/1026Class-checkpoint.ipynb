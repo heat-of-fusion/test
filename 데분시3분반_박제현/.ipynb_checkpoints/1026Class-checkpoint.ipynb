{
 "cells": [
  {
   "cell_type": "markdown",
   "id": "14ec07b1-1e6a-4630-873a-322b087084dc",
   "metadata": {},
   "source": [
    "## 데이터분석과 시각화 중간고사 풀이(3분반)\n",
    "\n",
    "20226744학번 박제현\n",
    "\n",
    "10월 26일 강의"
   ]
  },
  {
   "cell_type": "code",
   "execution_count": 1,
   "id": "6e90eda3-8c25-4ffb-ba87-a41f2dd4d78c",
   "metadata": {},
   "outputs": [],
   "source": [
    "age_tuple = (23, 21, 24, 22, 20)\n",
    "age_list = [23, 21, 24, 22, 20]\n",
    "name_list = ['Kim', 'Lee', 'Park', 'Jung', 'Choi']\n",
    "weight_list = [46, 53, 55, 49, 60]\n",
    "height_list = [160, 162, 170, 158, 164]"
   ]
  },
  {
   "cell_type": "code",
   "execution_count": 2,
   "id": "e4c84e0f-b055-4ff7-ab4a-bce7978cfc02",
   "metadata": {},
   "outputs": [
    {
     "data": {
      "text/plain": [
       "110"
      ]
     },
     "execution_count": 2,
     "metadata": {},
     "output_type": "execute_result"
    }
   ],
   "source": [
    "#1. age_tuple에 대하여 다음과 같이 코딩한 경우 Error가 발생하는 것은 무엇인가요?\n",
    "type(age_tuple)\n",
    "#age_tuple.pop(2)\n",
    "age_tuple.index(22)\n",
    "sum(age_tuple)"
   ]
  },
  {
   "cell_type": "code",
   "execution_count": 3,
   "id": "db3310d5-6605-45ea-a364-813861c827da",
   "metadata": {},
   "outputs": [
    {
     "data": {
      "text/plain": [
       "46"
      ]
     },
     "execution_count": 3,
     "metadata": {},
     "output_type": "execute_result"
    }
   ],
   "source": [
    "# 2. age_tuple[-2] + age_tuple[2]으로 코딩한 경우 결과는?\n",
    "age_tuple[-2] + age_tuple[2]"
   ]
  },
  {
   "cell_type": "code",
   "execution_count": 4,
   "id": "6c428850-c933-492f-9051-31661f056e29",
   "metadata": {},
   "outputs": [],
   "source": [
    "#3\n",
    "name_list.remove('Park') \n",
    "#del name_list[2]\n",
    "#name_list.pop(2)"
   ]
  },
  {
   "cell_type": "code",
   "execution_count": 5,
   "id": "b7f438bf-f9c8-42f1-87c8-135a22baded0",
   "metadata": {},
   "outputs": [
    {
     "data": {
      "text/plain": [
       "['Kim', 'Lee', 'Jung', 'Choi', 'Lim']"
      ]
     },
     "execution_count": 5,
     "metadata": {},
     "output_type": "execute_result"
    }
   ],
   "source": [
    "#4\n",
    "name_list.insert(4, 'Lim')\n",
    "#name_list.append('Lim')\n",
    "#name_list.extend(['Lim'])\n",
    "name_list"
   ]
  },
  {
   "cell_type": "code",
   "execution_count": 6,
   "id": "cfa1933d-ab6a-473e-9189-fdac340252d5",
   "metadata": {},
   "outputs": [
    {
     "data": {
      "text/plain": [
       "[('Kim', 23), ('Lee', 21), ('Jung', 24), ('Choi', 22), ('Lim', 20)]"
      ]
     },
     "execution_count": 6,
     "metadata": {},
     "output_type": "execute_result"
    }
   ],
   "source": [
    "#5\n",
    "class_list = []\n",
    "for age in age_tuple:\n",
    "    for name in name_list:\n",
    "        if age_tuple.index(age) == name_list.index(name):\n",
    "            class_list.append((name, age))\n",
    "class_list"
   ]
  },
  {
   "cell_type": "code",
   "execution_count": 7,
   "id": "ac9cc913-289e-4f44-baa7-84543e88170d",
   "metadata": {},
   "outputs": [
    {
     "name": "stdout",
     "output_type": "stream",
     "text": [
      "class_list = [('Kim', 23), ('Lee', 21), ('Jung', 24), ('Choi', 22), ('Lim', 20)]\n"
     ]
    }
   ],
   "source": [
    "#6\n",
    "class_list = []\n",
    "for age in age_tuple:\n",
    "    for name in name_list:\n",
    "        if age_tuple.index(age) == name_list.index(name):\n",
    "            class_list.append((name, age))\n",
    "print('class_list =', class_list)"
   ]
  },
  {
   "cell_type": "code",
   "execution_count": 8,
   "id": "af205d4d-a571-4e13-9bc9-67cf0697852c",
   "metadata": {},
   "outputs": [
    {
     "name": "stdout",
     "output_type": "stream",
     "text": [
      "Kim\n",
      "23\n",
      "Lee\n",
      "21\n",
      "Jung\n",
      "24\n",
      "Choi\n",
      "22\n",
      "Lim\n",
      "20\n"
     ]
    }
   ],
   "source": [
    "#7\n",
    "for student in class_list:\n",
    "    for text in student:\n",
    "        print(text)"
   ]
  },
  {
   "cell_type": "code",
   "execution_count": 9,
   "id": "9edbb131-734d-406f-8558-1487af407a84",
   "metadata": {},
   "outputs": [
    {
     "name": "stdout",
     "output_type": "stream",
     "text": [
      "2\n",
      "<class 'tuple'>\n",
      "<class 'str'>\n",
      "<class 'int'>\n",
      "2\n",
      "<class 'tuple'>\n",
      "<class 'str'>\n",
      "<class 'int'>\n",
      "2\n",
      "<class 'tuple'>\n",
      "<class 'str'>\n",
      "<class 'int'>\n",
      "2\n",
      "<class 'tuple'>\n",
      "<class 'str'>\n",
      "<class 'int'>\n",
      "2\n",
      "<class 'tuple'>\n",
      "<class 'str'>\n",
      "<class 'int'>\n",
      "5\n"
     ]
    }
   ],
   "source": [
    "#7-1\n",
    "for student in class_list:\n",
    "    print(len(student))\n",
    "    print(type(student))\n",
    "    for text in student:\n",
    "        print(type(text))\n",
    "print(len(class_list))"
   ]
  },
  {
   "cell_type": "code",
   "execution_count": 10,
   "id": "c2e4655f-c05d-425e-b5d2-0dab6666bc79",
   "metadata": {},
   "outputs": [
    {
     "name": "stdout",
     "output_type": "stream",
     "text": [
      "class_dic = {'Kim': 23, 'Lee': 21, 'Jung': 24, 'Choi': 22, 'Lim': 20}\n",
      "110\n"
     ]
    }
   ],
   "source": [
    "#8\n",
    "class_dic = {}\n",
    "for student in class_list:\n",
    "    for j in range(1, len(student)):\n",
    "        class_dic[student[0]] = student[1]\n",
    "print('class_dic =', class_dic)\n",
    "\n",
    "age_sum = 0\n",
    "for key in class_dic:\n",
    "    age_sum += class_dic[key]\n",
    "print(age_sum)"
   ]
  },
  {
   "cell_type": "code",
   "execution_count": 11,
   "id": "13e2e72b-267e-4f82-89b6-5582f72f8230",
   "metadata": {},
   "outputs": [
    {
     "data": {
      "text/plain": [
       "Kim     23\n",
       "Lee     21\n",
       "Jung    24\n",
       "Choi    22\n",
       "Lim     20\n",
       "dtype: int64"
      ]
     },
     "execution_count": 11,
     "metadata": {},
     "output_type": "execute_result"
    }
   ],
   "source": [
    "#9\n",
    "import pandas as pd\n",
    "ds1 = pd.Series(class_dic)\n",
    "# ds1.clumns\n",
    "ds1.shape\n",
    "ds1.index\n",
    "ds1.values\n",
    "ds1"
   ]
  },
  {
   "cell_type": "code",
   "execution_count": 12,
   "id": "2395a2e3-ca76-4286-9b7e-0152cf4acf44",
   "metadata": {},
   "outputs": [
    {
     "data": {
      "text/plain": [
       "Lee     21\n",
       "Choi    22\n",
       "dtype: int64"
      ]
     },
     "execution_count": 12,
     "metadata": {},
     "output_type": "execute_result"
    }
   ],
   "source": [
    "#10\n",
    "ds1[['Lee', 'Choi']]\n",
    "ds1[[1, 3]]"
   ]
  },
  {
   "cell_type": "code",
   "execution_count": 13,
   "id": "14dc63bb-d6fa-4d28-a25e-55db00d26b59",
   "metadata": {},
   "outputs": [
    {
     "data": {
      "text/html": [
       "<div>\n",
       "<style scoped>\n",
       "    .dataframe tbody tr th:only-of-type {\n",
       "        vertical-align: middle;\n",
       "    }\n",
       "\n",
       "    .dataframe tbody tr th {\n",
       "        vertical-align: top;\n",
       "    }\n",
       "\n",
       "    .dataframe thead th {\n",
       "        text-align: right;\n",
       "    }\n",
       "</style>\n",
       "<table border=\"1\" class=\"dataframe\">\n",
       "  <thead>\n",
       "    <tr style=\"text-align: right;\">\n",
       "      <th></th>\n",
       "      <th>Kim</th>\n",
       "      <th>Lee</th>\n",
       "      <th>Jung</th>\n",
       "      <th>Choi</th>\n",
       "      <th>Lim</th>\n",
       "    </tr>\n",
       "  </thead>\n",
       "  <tbody>\n",
       "    <tr>\n",
       "      <th>age</th>\n",
       "      <td>23</td>\n",
       "      <td>21</td>\n",
       "      <td>24</td>\n",
       "      <td>22</td>\n",
       "      <td>20</td>\n",
       "    </tr>\n",
       "    <tr>\n",
       "      <th>weight</th>\n",
       "      <td>46</td>\n",
       "      <td>53</td>\n",
       "      <td>55</td>\n",
       "      <td>49</td>\n",
       "      <td>60</td>\n",
       "    </tr>\n",
       "    <tr>\n",
       "      <th>height</th>\n",
       "      <td>160</td>\n",
       "      <td>162</td>\n",
       "      <td>170</td>\n",
       "      <td>158</td>\n",
       "      <td>164</td>\n",
       "    </tr>\n",
       "  </tbody>\n",
       "</table>\n",
       "</div>"
      ],
      "text/plain": [
       "        Kim  Lee  Jung  Choi  Lim\n",
       "age      23   21    24    22   20\n",
       "weight   46   53    55    49   60\n",
       "height  160  162   170   158  164"
      ]
     },
     "execution_count": 13,
     "metadata": {},
     "output_type": "execute_result"
    }
   ],
   "source": [
    "#11\n",
    "dic = {'name': name_list, 'age': age_list, 'weight': weight_list, 'height': height_list}\n",
    "import pandas as pd\n",
    "df1 = pd.DataFrame(dic)\n",
    "df2 = pd.DataFrame([age_list, weight_list, height_list], index = ['age', 'weight', 'height'], columns = name_list)\n",
    "df2"
   ]
  },
  {
   "cell_type": "code",
   "execution_count": 14,
   "id": "c1db9106-dd33-43f5-9a2a-2a2ab8f7f3cc",
   "metadata": {},
   "outputs": [
    {
     "data": {
      "text/html": [
       "<div>\n",
       "<style scoped>\n",
       "    .dataframe tbody tr th:only-of-type {\n",
       "        vertical-align: middle;\n",
       "    }\n",
       "\n",
       "    .dataframe tbody tr th {\n",
       "        vertical-align: top;\n",
       "    }\n",
       "\n",
       "    .dataframe thead th {\n",
       "        text-align: right;\n",
       "    }\n",
       "</style>\n",
       "<table border=\"1\" class=\"dataframe\">\n",
       "  <thead>\n",
       "    <tr style=\"text-align: right;\">\n",
       "      <th></th>\n",
       "      <th>age</th>\n",
       "      <th>weight</th>\n",
       "      <th>height</th>\n",
       "    </tr>\n",
       "    <tr>\n",
       "      <th>name</th>\n",
       "      <th></th>\n",
       "      <th></th>\n",
       "      <th></th>\n",
       "    </tr>\n",
       "  </thead>\n",
       "  <tbody>\n",
       "    <tr>\n",
       "      <th>Kim</th>\n",
       "      <td>23</td>\n",
       "      <td>46</td>\n",
       "      <td>160</td>\n",
       "    </tr>\n",
       "    <tr>\n",
       "      <th>Lee</th>\n",
       "      <td>21</td>\n",
       "      <td>53</td>\n",
       "      <td>162</td>\n",
       "    </tr>\n",
       "    <tr>\n",
       "      <th>Jung</th>\n",
       "      <td>24</td>\n",
       "      <td>55</td>\n",
       "      <td>170</td>\n",
       "    </tr>\n",
       "    <tr>\n",
       "      <th>Choi</th>\n",
       "      <td>22</td>\n",
       "      <td>49</td>\n",
       "      <td>158</td>\n",
       "    </tr>\n",
       "    <tr>\n",
       "      <th>Lim</th>\n",
       "      <td>20</td>\n",
       "      <td>60</td>\n",
       "      <td>164</td>\n",
       "    </tr>\n",
       "  </tbody>\n",
       "</table>\n",
       "</div>"
      ],
      "text/plain": [
       "      age  weight  height\n",
       "name                     \n",
       "Kim    23      46     160\n",
       "Lee    21      53     162\n",
       "Jung   24      55     170\n",
       "Choi   22      49     158\n",
       "Lim    20      60     164"
      ]
     },
     "execution_count": 14,
     "metadata": {},
     "output_type": "execute_result"
    }
   ],
   "source": [
    "df1.set_index('name', inplace = True)\n",
    "df1"
   ]
  },
  {
   "cell_type": "code",
   "execution_count": 15,
   "id": "0696f3e1-c591-4228-bb69-c18c7b7b165b",
   "metadata": {},
   "outputs": [
    {
     "data": {
      "text/html": [
       "<div>\n",
       "<style scoped>\n",
       "    .dataframe tbody tr th:only-of-type {\n",
       "        vertical-align: middle;\n",
       "    }\n",
       "\n",
       "    .dataframe tbody tr th {\n",
       "        vertical-align: top;\n",
       "    }\n",
       "\n",
       "    .dataframe thead th {\n",
       "        text-align: right;\n",
       "    }\n",
       "</style>\n",
       "<table border=\"1\" class=\"dataframe\">\n",
       "  <thead>\n",
       "    <tr style=\"text-align: right;\">\n",
       "      <th></th>\n",
       "      <th>age</th>\n",
       "      <th>height</th>\n",
       "    </tr>\n",
       "    <tr>\n",
       "      <th>name</th>\n",
       "      <th></th>\n",
       "      <th></th>\n",
       "    </tr>\n",
       "  </thead>\n",
       "  <tbody>\n",
       "    <tr>\n",
       "      <th>Kim</th>\n",
       "      <td>23</td>\n",
       "      <td>160</td>\n",
       "    </tr>\n",
       "    <tr>\n",
       "      <th>Lee</th>\n",
       "      <td>21</td>\n",
       "      <td>162</td>\n",
       "    </tr>\n",
       "    <tr>\n",
       "      <th>Jung</th>\n",
       "      <td>24</td>\n",
       "      <td>170</td>\n",
       "    </tr>\n",
       "    <tr>\n",
       "      <th>Choi</th>\n",
       "      <td>22</td>\n",
       "      <td>158</td>\n",
       "    </tr>\n",
       "    <tr>\n",
       "      <th>Lim</th>\n",
       "      <td>20</td>\n",
       "      <td>164</td>\n",
       "    </tr>\n",
       "  </tbody>\n",
       "</table>\n",
       "</div>"
      ],
      "text/plain": [
       "      age  height\n",
       "name             \n",
       "Kim    23     160\n",
       "Lee    21     162\n",
       "Jung   24     170\n",
       "Choi   22     158\n",
       "Lim    20     164"
      ]
     },
     "execution_count": 15,
     "metadata": {},
     "output_type": "execute_result"
    }
   ],
   "source": [
    "df1[['age', 'height']]"
   ]
  },
  {
   "cell_type": "code",
   "execution_count": 16,
   "id": "9001f405-b321-4085-8c92-c0694a7c96e2",
   "metadata": {},
   "outputs": [
    {
     "data": {
      "text/html": [
       "<div>\n",
       "<style scoped>\n",
       "    .dataframe tbody tr th:only-of-type {\n",
       "        vertical-align: middle;\n",
       "    }\n",
       "\n",
       "    .dataframe tbody tr th {\n",
       "        vertical-align: top;\n",
       "    }\n",
       "\n",
       "    .dataframe thead th {\n",
       "        text-align: right;\n",
       "    }\n",
       "</style>\n",
       "<table border=\"1\" class=\"dataframe\">\n",
       "  <thead>\n",
       "    <tr style=\"text-align: right;\">\n",
       "      <th></th>\n",
       "      <th>age</th>\n",
       "      <th>weight</th>\n",
       "      <th>height</th>\n",
       "    </tr>\n",
       "    <tr>\n",
       "      <th>name</th>\n",
       "      <th></th>\n",
       "      <th></th>\n",
       "      <th></th>\n",
       "    </tr>\n",
       "  </thead>\n",
       "  <tbody>\n",
       "    <tr>\n",
       "      <th>Kim</th>\n",
       "      <td>23</td>\n",
       "      <td>46</td>\n",
       "      <td>160</td>\n",
       "    </tr>\n",
       "    <tr>\n",
       "      <th>Lee</th>\n",
       "      <td>21</td>\n",
       "      <td>53</td>\n",
       "      <td>162</td>\n",
       "    </tr>\n",
       "    <tr>\n",
       "      <th>Jung</th>\n",
       "      <td>24</td>\n",
       "      <td>45</td>\n",
       "      <td>170</td>\n",
       "    </tr>\n",
       "    <tr>\n",
       "      <th>Choi</th>\n",
       "      <td>22</td>\n",
       "      <td>49</td>\n",
       "      <td>158</td>\n",
       "    </tr>\n",
       "    <tr>\n",
       "      <th>Lim</th>\n",
       "      <td>20</td>\n",
       "      <td>60</td>\n",
       "      <td>164</td>\n",
       "    </tr>\n",
       "  </tbody>\n",
       "</table>\n",
       "</div>"
      ],
      "text/plain": [
       "      age  weight  height\n",
       "name                     \n",
       "Kim    23      46     160\n",
       "Lee    21      53     162\n",
       "Jung   24      45     170\n",
       "Choi   22      49     158\n",
       "Lim    20      60     164"
      ]
     },
     "execution_count": 16,
     "metadata": {},
     "output_type": "execute_result"
    }
   ],
   "source": [
    "df1['weight']['Jung'] = 45\n",
    "df1"
   ]
  },
  {
   "cell_type": "code",
   "execution_count": 17,
   "id": "de878152-11f9-49b2-9355-2e2091751dba",
   "metadata": {},
   "outputs": [
    {
     "data": {
      "text/html": [
       "<div>\n",
       "<style scoped>\n",
       "    .dataframe tbody tr th:only-of-type {\n",
       "        vertical-align: middle;\n",
       "    }\n",
       "\n",
       "    .dataframe tbody tr th {\n",
       "        vertical-align: top;\n",
       "    }\n",
       "\n",
       "    .dataframe thead th {\n",
       "        text-align: right;\n",
       "    }\n",
       "</style>\n",
       "<table border=\"1\" class=\"dataframe\">\n",
       "  <thead>\n",
       "    <tr style=\"text-align: right;\">\n",
       "      <th></th>\n",
       "      <th>age</th>\n",
       "      <th>weight</th>\n",
       "      <th>height</th>\n",
       "    </tr>\n",
       "    <tr>\n",
       "      <th>name</th>\n",
       "      <th></th>\n",
       "      <th></th>\n",
       "      <th></th>\n",
       "    </tr>\n",
       "  </thead>\n",
       "  <tbody>\n",
       "    <tr>\n",
       "      <th>Choi</th>\n",
       "      <td>22</td>\n",
       "      <td>49</td>\n",
       "      <td>158</td>\n",
       "    </tr>\n",
       "    <tr>\n",
       "      <th>Jung</th>\n",
       "      <td>24</td>\n",
       "      <td>45</td>\n",
       "      <td>170</td>\n",
       "    </tr>\n",
       "    <tr>\n",
       "      <th>Kim</th>\n",
       "      <td>23</td>\n",
       "      <td>46</td>\n",
       "      <td>160</td>\n",
       "    </tr>\n",
       "    <tr>\n",
       "      <th>Lee</th>\n",
       "      <td>21</td>\n",
       "      <td>53</td>\n",
       "      <td>162</td>\n",
       "    </tr>\n",
       "    <tr>\n",
       "      <th>Lim</th>\n",
       "      <td>20</td>\n",
       "      <td>60</td>\n",
       "      <td>164</td>\n",
       "    </tr>\n",
       "  </tbody>\n",
       "</table>\n",
       "</div>"
      ],
      "text/plain": [
       "      age  weight  height\n",
       "name                     \n",
       "Choi   22      49     158\n",
       "Jung   24      45     170\n",
       "Kim    23      46     160\n",
       "Lee    21      53     162\n",
       "Lim    20      60     164"
      ]
     },
     "execution_count": 17,
     "metadata": {},
     "output_type": "execute_result"
    }
   ],
   "source": [
    "df1.sort_index(inplace = True)\n",
    "df1"
   ]
  },
  {
   "cell_type": "code",
   "execution_count": 18,
   "id": "286a8951-2365-4798-adc6-e4d50a89d31e",
   "metadata": {},
   "outputs": [
    {
     "data": {
      "text/html": [
       "<div>\n",
       "<style scoped>\n",
       "    .dataframe tbody tr th:only-of-type {\n",
       "        vertical-align: middle;\n",
       "    }\n",
       "\n",
       "    .dataframe tbody tr th {\n",
       "        vertical-align: top;\n",
       "    }\n",
       "\n",
       "    .dataframe thead th {\n",
       "        text-align: right;\n",
       "    }\n",
       "</style>\n",
       "<table border=\"1\" class=\"dataframe\">\n",
       "  <thead>\n",
       "    <tr style=\"text-align: right;\">\n",
       "      <th></th>\n",
       "      <th>age</th>\n",
       "      <th>weight</th>\n",
       "      <th>height</th>\n",
       "    </tr>\n",
       "    <tr>\n",
       "      <th>name</th>\n",
       "      <th></th>\n",
       "      <th></th>\n",
       "      <th></th>\n",
       "    </tr>\n",
       "  </thead>\n",
       "  <tbody>\n",
       "    <tr>\n",
       "      <th>Lim</th>\n",
       "      <td>20</td>\n",
       "      <td>60</td>\n",
       "      <td>164</td>\n",
       "    </tr>\n",
       "    <tr>\n",
       "      <th>Lee</th>\n",
       "      <td>21</td>\n",
       "      <td>53</td>\n",
       "      <td>162</td>\n",
       "    </tr>\n",
       "    <tr>\n",
       "      <th>Choi</th>\n",
       "      <td>22</td>\n",
       "      <td>49</td>\n",
       "      <td>158</td>\n",
       "    </tr>\n",
       "    <tr>\n",
       "      <th>Kim</th>\n",
       "      <td>23</td>\n",
       "      <td>46</td>\n",
       "      <td>160</td>\n",
       "    </tr>\n",
       "    <tr>\n",
       "      <th>Jung</th>\n",
       "      <td>24</td>\n",
       "      <td>45</td>\n",
       "      <td>170</td>\n",
       "    </tr>\n",
       "  </tbody>\n",
       "</table>\n",
       "</div>"
      ],
      "text/plain": [
       "      age  weight  height\n",
       "name                     \n",
       "Lim    20      60     164\n",
       "Lee    21      53     162\n",
       "Choi   22      49     158\n",
       "Kim    23      46     160\n",
       "Jung   24      45     170"
      ]
     },
     "execution_count": 18,
     "metadata": {},
     "output_type": "execute_result"
    }
   ],
   "source": [
    "df1.sort_values('weight', ascending = False, inplace = True)\n",
    "df1"
   ]
  },
  {
   "cell_type": "code",
   "execution_count": 19,
   "id": "6081247e-3004-4104-886e-196d204f815a",
   "metadata": {},
   "outputs": [
    {
     "data": {
      "text/html": [
       "<div>\n",
       "<style scoped>\n",
       "    .dataframe tbody tr th:only-of-type {\n",
       "        vertical-align: middle;\n",
       "    }\n",
       "\n",
       "    .dataframe tbody tr th {\n",
       "        vertical-align: top;\n",
       "    }\n",
       "\n",
       "    .dataframe thead th {\n",
       "        text-align: right;\n",
       "    }\n",
       "</style>\n",
       "<table border=\"1\" class=\"dataframe\">\n",
       "  <thead>\n",
       "    <tr style=\"text-align: right;\">\n",
       "      <th></th>\n",
       "      <th>age</th>\n",
       "      <th>weight</th>\n",
       "      <th>height</th>\n",
       "    </tr>\n",
       "    <tr>\n",
       "      <th>name</th>\n",
       "      <th></th>\n",
       "      <th></th>\n",
       "      <th></th>\n",
       "    </tr>\n",
       "  </thead>\n",
       "  <tbody>\n",
       "    <tr>\n",
       "      <th>Lim</th>\n",
       "      <td>20.0</td>\n",
       "      <td>60.0</td>\n",
       "      <td>164.0</td>\n",
       "    </tr>\n",
       "    <tr>\n",
       "      <th>Lee</th>\n",
       "      <td>21.0</td>\n",
       "      <td>53.0</td>\n",
       "      <td>162.0</td>\n",
       "    </tr>\n",
       "    <tr>\n",
       "      <th>Choi</th>\n",
       "      <td>22.0</td>\n",
       "      <td>49.0</td>\n",
       "      <td>158.0</td>\n",
       "    </tr>\n",
       "    <tr>\n",
       "      <th>Kim</th>\n",
       "      <td>23.0</td>\n",
       "      <td>46.0</td>\n",
       "      <td>160.0</td>\n",
       "    </tr>\n",
       "    <tr>\n",
       "      <th>Jung</th>\n",
       "      <td>24.0</td>\n",
       "      <td>45.0</td>\n",
       "      <td>170.0</td>\n",
       "    </tr>\n",
       "    <tr>\n",
       "      <th>mean</th>\n",
       "      <td>22.0</td>\n",
       "      <td>50.6</td>\n",
       "      <td>162.8</td>\n",
       "    </tr>\n",
       "  </tbody>\n",
       "</table>\n",
       "</div>"
      ],
      "text/plain": [
       "       age  weight  height\n",
       "name                      \n",
       "Lim   20.0    60.0   164.0\n",
       "Lee   21.0    53.0   162.0\n",
       "Choi  22.0    49.0   158.0\n",
       "Kim   23.0    46.0   160.0\n",
       "Jung  24.0    45.0   170.0\n",
       "mean  22.0    50.6   162.8"
      ]
     },
     "execution_count": 19,
     "metadata": {},
     "output_type": "execute_result"
    }
   ],
   "source": [
    "df1.loc['mean'] = df1.mean()\n",
    "df1"
   ]
  },
  {
   "cell_type": "code",
   "execution_count": 20,
   "id": "5fc4e328-7e36-4756-b859-122cacdfb619",
   "metadata": {},
   "outputs": [
    {
     "data": {
      "text/plain": [
       "numpy.ndarray"
      ]
     },
     "execution_count": 20,
     "metadata": {},
     "output_type": "execute_result"
    }
   ],
   "source": [
    "type(df1.values)"
   ]
  },
  {
   "cell_type": "code",
   "execution_count": 21,
   "id": "f876d4a3-e1f2-4b8f-873b-24740460e0df",
   "metadata": {},
   "outputs": [
    {
     "data": {
      "text/html": [
       "<div>\n",
       "<style scoped>\n",
       "    .dataframe tbody tr th:only-of-type {\n",
       "        vertical-align: middle;\n",
       "    }\n",
       "\n",
       "    .dataframe tbody tr th {\n",
       "        vertical-align: top;\n",
       "    }\n",
       "\n",
       "    .dataframe thead th {\n",
       "        text-align: right;\n",
       "    }\n",
       "</style>\n",
       "<table border=\"1\" class=\"dataframe\">\n",
       "  <thead>\n",
       "    <tr style=\"text-align: right;\">\n",
       "      <th></th>\n",
       "      <th>age</th>\n",
       "      <th>weight</th>\n",
       "      <th>height</th>\n",
       "      <th>BMI</th>\n",
       "    </tr>\n",
       "    <tr>\n",
       "      <th>name</th>\n",
       "      <th></th>\n",
       "      <th></th>\n",
       "      <th></th>\n",
       "      <th></th>\n",
       "    </tr>\n",
       "  </thead>\n",
       "  <tbody>\n",
       "    <tr>\n",
       "      <th>Lim</th>\n",
       "      <td>20.0</td>\n",
       "      <td>60.0</td>\n",
       "      <td>164.0</td>\n",
       "      <td>22.31</td>\n",
       "    </tr>\n",
       "    <tr>\n",
       "      <th>Lee</th>\n",
       "      <td>21.0</td>\n",
       "      <td>53.0</td>\n",
       "      <td>162.0</td>\n",
       "      <td>20.20</td>\n",
       "    </tr>\n",
       "    <tr>\n",
       "      <th>Choi</th>\n",
       "      <td>22.0</td>\n",
       "      <td>49.0</td>\n",
       "      <td>158.0</td>\n",
       "      <td>19.63</td>\n",
       "    </tr>\n",
       "    <tr>\n",
       "      <th>Kim</th>\n",
       "      <td>23.0</td>\n",
       "      <td>46.0</td>\n",
       "      <td>160.0</td>\n",
       "      <td>17.97</td>\n",
       "    </tr>\n",
       "    <tr>\n",
       "      <th>Jung</th>\n",
       "      <td>24.0</td>\n",
       "      <td>45.0</td>\n",
       "      <td>170.0</td>\n",
       "      <td>15.57</td>\n",
       "    </tr>\n",
       "    <tr>\n",
       "      <th>mean</th>\n",
       "      <td>22.0</td>\n",
       "      <td>50.6</td>\n",
       "      <td>162.8</td>\n",
       "      <td>19.09</td>\n",
       "    </tr>\n",
       "  </tbody>\n",
       "</table>\n",
       "</div>"
      ],
      "text/plain": [
       "       age  weight  height    BMI\n",
       "name                             \n",
       "Lim   20.0    60.0   164.0  22.31\n",
       "Lee   21.0    53.0   162.0  20.20\n",
       "Choi  22.0    49.0   158.0  19.63\n",
       "Kim   23.0    46.0   160.0  17.97\n",
       "Jung  24.0    45.0   170.0  15.57\n",
       "mean  22.0    50.6   162.8  19.09"
      ]
     },
     "execution_count": 21,
     "metadata": {},
     "output_type": "execute_result"
    }
   ],
   "source": [
    "df1['BMI'] = (df1['weight'] / (df1['height'] / 100) ** 2).round(2)\n",
    "df1"
   ]
  },
  {
   "cell_type": "code",
   "execution_count": 22,
   "id": "c6759270-dd0e-40ae-9ffb-5157c282764e",
   "metadata": {},
   "outputs": [
    {
     "data": {
      "text/html": [
       "<div>\n",
       "<style scoped>\n",
       "    .dataframe tbody tr th:only-of-type {\n",
       "        vertical-align: middle;\n",
       "    }\n",
       "\n",
       "    .dataframe tbody tr th {\n",
       "        vertical-align: top;\n",
       "    }\n",
       "\n",
       "    .dataframe thead th {\n",
       "        text-align: right;\n",
       "    }\n",
       "</style>\n",
       "<table border=\"1\" class=\"dataframe\">\n",
       "  <thead>\n",
       "    <tr style=\"text-align: right;\">\n",
       "      <th></th>\n",
       "      <th>age</th>\n",
       "      <th>weight</th>\n",
       "      <th>height</th>\n",
       "      <th>BMI</th>\n",
       "      <th>BMI_G</th>\n",
       "    </tr>\n",
       "    <tr>\n",
       "      <th>name</th>\n",
       "      <th></th>\n",
       "      <th></th>\n",
       "      <th></th>\n",
       "      <th></th>\n",
       "      <th></th>\n",
       "    </tr>\n",
       "  </thead>\n",
       "  <tbody>\n",
       "    <tr>\n",
       "      <th>Lim</th>\n",
       "      <td>20.0</td>\n",
       "      <td>60.0</td>\n",
       "      <td>164.0</td>\n",
       "      <td>22.31</td>\n",
       "      <td>obesity</td>\n",
       "    </tr>\n",
       "    <tr>\n",
       "      <th>Lee</th>\n",
       "      <td>21.0</td>\n",
       "      <td>53.0</td>\n",
       "      <td>162.0</td>\n",
       "      <td>20.20</td>\n",
       "      <td>obesity</td>\n",
       "    </tr>\n",
       "    <tr>\n",
       "      <th>Choi</th>\n",
       "      <td>22.0</td>\n",
       "      <td>49.0</td>\n",
       "      <td>158.0</td>\n",
       "      <td>19.63</td>\n",
       "      <td>normal</td>\n",
       "    </tr>\n",
       "    <tr>\n",
       "      <th>Kim</th>\n",
       "      <td>23.0</td>\n",
       "      <td>46.0</td>\n",
       "      <td>160.0</td>\n",
       "      <td>17.97</td>\n",
       "      <td>normal</td>\n",
       "    </tr>\n",
       "    <tr>\n",
       "      <th>Jung</th>\n",
       "      <td>24.0</td>\n",
       "      <td>45.0</td>\n",
       "      <td>170.0</td>\n",
       "      <td>15.57</td>\n",
       "      <td>low</td>\n",
       "    </tr>\n",
       "    <tr>\n",
       "      <th>mean</th>\n",
       "      <td>22.0</td>\n",
       "      <td>50.6</td>\n",
       "      <td>162.8</td>\n",
       "      <td>19.09</td>\n",
       "      <td>normal</td>\n",
       "    </tr>\n",
       "  </tbody>\n",
       "</table>\n",
       "</div>"
      ],
      "text/plain": [
       "       age  weight  height    BMI    BMI_G\n",
       "name                                      \n",
       "Lim   20.0    60.0   164.0  22.31  obesity\n",
       "Lee   21.0    53.0   162.0  20.20  obesity\n",
       "Choi  22.0    49.0   158.0  19.63   normal\n",
       "Kim   23.0    46.0   160.0  17.97   normal\n",
       "Jung  24.0    45.0   170.0  15.57      low\n",
       "mean  22.0    50.6   162.8  19.09   normal"
      ]
     },
     "execution_count": 22,
     "metadata": {},
     "output_type": "execute_result"
    }
   ],
   "source": [
    "import numpy as np\n",
    "df1['BMI_G'] = np.where(df1['BMI'] <= 17, 'low', np.where(df1['BMI'] <= 20, 'normal', 'obesity'))\n",
    "df1"
   ]
  },
  {
   "cell_type": "code",
   "execution_count": 23,
   "id": "1c858b48-1e95-4899-b508-49004016473c",
   "metadata": {},
   "outputs": [
    {
     "data": {
      "text/html": [
       "<div>\n",
       "<style scoped>\n",
       "    .dataframe tbody tr th:only-of-type {\n",
       "        vertical-align: middle;\n",
       "    }\n",
       "\n",
       "    .dataframe tbody tr th {\n",
       "        vertical-align: top;\n",
       "    }\n",
       "\n",
       "    .dataframe thead th {\n",
       "        text-align: right;\n",
       "    }\n",
       "</style>\n",
       "<table border=\"1\" class=\"dataframe\">\n",
       "  <thead>\n",
       "    <tr style=\"text-align: right;\">\n",
       "      <th></th>\n",
       "      <th>age</th>\n",
       "      <th>weight</th>\n",
       "      <th>height</th>\n",
       "      <th>BMI</th>\n",
       "      <th>BMI_G</th>\n",
       "    </tr>\n",
       "    <tr>\n",
       "      <th>name</th>\n",
       "      <th></th>\n",
       "      <th></th>\n",
       "      <th></th>\n",
       "      <th></th>\n",
       "      <th></th>\n",
       "    </tr>\n",
       "  </thead>\n",
       "  <tbody>\n",
       "    <tr>\n",
       "      <th>Lee</th>\n",
       "      <td>21.0</td>\n",
       "      <td>53.0</td>\n",
       "      <td>162.0</td>\n",
       "      <td>20.20</td>\n",
       "      <td>obesity</td>\n",
       "    </tr>\n",
       "    <tr>\n",
       "      <th>Choi</th>\n",
       "      <td>22.0</td>\n",
       "      <td>49.0</td>\n",
       "      <td>158.0</td>\n",
       "      <td>19.63</td>\n",
       "      <td>normal</td>\n",
       "    </tr>\n",
       "    <tr>\n",
       "      <th>Jung</th>\n",
       "      <td>24.0</td>\n",
       "      <td>45.0</td>\n",
       "      <td>170.0</td>\n",
       "      <td>15.57</td>\n",
       "      <td>low</td>\n",
       "    </tr>\n",
       "    <tr>\n",
       "      <th>mean</th>\n",
       "      <td>22.0</td>\n",
       "      <td>50.6</td>\n",
       "      <td>162.8</td>\n",
       "      <td>19.09</td>\n",
       "      <td>normal</td>\n",
       "    </tr>\n",
       "  </tbody>\n",
       "</table>\n",
       "</div>"
      ],
      "text/plain": [
       "       age  weight  height    BMI    BMI_G\n",
       "name                                      \n",
       "Lee   21.0    53.0   162.0  20.20  obesity\n",
       "Choi  22.0    49.0   158.0  19.63   normal\n",
       "Jung  24.0    45.0   170.0  15.57      low\n",
       "mean  22.0    50.6   162.8  19.09   normal"
      ]
     },
     "execution_count": 23,
     "metadata": {},
     "output_type": "execute_result"
    }
   ],
   "source": [
    "df1.drop(index = ['Lim', 'Kim'], inplace = True)\n",
    "df1"
   ]
  },
  {
   "cell_type": "code",
   "execution_count": 24,
   "id": "b9e76b8c-666c-4ec8-bf9c-6c3a67cd98b7",
   "metadata": {},
   "outputs": [
    {
     "data": {
      "text/html": [
       "<div>\n",
       "<style scoped>\n",
       "    .dataframe tbody tr th:only-of-type {\n",
       "        vertical-align: middle;\n",
       "    }\n",
       "\n",
       "    .dataframe tbody tr th {\n",
       "        vertical-align: top;\n",
       "    }\n",
       "\n",
       "    .dataframe thead th {\n",
       "        text-align: right;\n",
       "    }\n",
       "</style>\n",
       "<table border=\"1\" class=\"dataframe\">\n",
       "  <thead>\n",
       "    <tr style=\"text-align: right;\">\n",
       "      <th></th>\n",
       "      <th>나이</th>\n",
       "      <th>weight</th>\n",
       "      <th>height</th>\n",
       "      <th>BMI</th>\n",
       "      <th>BMI_G</th>\n",
       "    </tr>\n",
       "    <tr>\n",
       "      <th>name</th>\n",
       "      <th></th>\n",
       "      <th></th>\n",
       "      <th></th>\n",
       "      <th></th>\n",
       "      <th></th>\n",
       "    </tr>\n",
       "  </thead>\n",
       "  <tbody>\n",
       "    <tr>\n",
       "      <th>Lee</th>\n",
       "      <td>21.0</td>\n",
       "      <td>53.0</td>\n",
       "      <td>162.0</td>\n",
       "      <td>20.20</td>\n",
       "      <td>obesity</td>\n",
       "    </tr>\n",
       "    <tr>\n",
       "      <th>Choi</th>\n",
       "      <td>22.0</td>\n",
       "      <td>49.0</td>\n",
       "      <td>158.0</td>\n",
       "      <td>19.63</td>\n",
       "      <td>normal</td>\n",
       "    </tr>\n",
       "    <tr>\n",
       "      <th>Jung</th>\n",
       "      <td>24.0</td>\n",
       "      <td>45.0</td>\n",
       "      <td>170.0</td>\n",
       "      <td>15.57</td>\n",
       "      <td>low</td>\n",
       "    </tr>\n",
       "    <tr>\n",
       "      <th>mean</th>\n",
       "      <td>22.0</td>\n",
       "      <td>50.6</td>\n",
       "      <td>162.8</td>\n",
       "      <td>19.09</td>\n",
       "      <td>normal</td>\n",
       "    </tr>\n",
       "  </tbody>\n",
       "</table>\n",
       "</div>"
      ],
      "text/plain": [
       "        나이  weight  height    BMI    BMI_G\n",
       "name                                      \n",
       "Lee   21.0    53.0   162.0  20.20  obesity\n",
       "Choi  22.0    49.0   158.0  19.63   normal\n",
       "Jung  24.0    45.0   170.0  15.57      low\n",
       "mean  22.0    50.6   162.8  19.09   normal"
      ]
     },
     "execution_count": 24,
     "metadata": {},
     "output_type": "execute_result"
    }
   ],
   "source": [
    "df1.rename(columns = {'age': '나이'}, inplace = True)\n",
    "df1"
   ]
  },
  {
   "cell_type": "code",
   "execution_count": 25,
   "id": "91f3885f-f541-40ca-8a07-f8aec7bda911",
   "metadata": {},
   "outputs": [
    {
     "ename": "SyntaxError",
     "evalue": "invalid syntax (1265365439.py, line 5)",
     "output_type": "error",
     "traceback": [
      "\u001b[1;36m  Input \u001b[1;32mIn [25]\u001b[1;36m\u001b[0m\n\u001b[1;33m    print(df2.index[index], ':', t_sum/len(df2.columns))\u001b[0m\n\u001b[1;37m    ^\u001b[0m\n\u001b[1;31mSyntaxError\u001b[0m\u001b[1;31m:\u001b[0m invalid syntax\n"
     ]
    }
   ],
   "source": [
    "for index in range(len(df2.index)):\n",
    "    t_sum = 0\n",
    "    for column in range(len(df2.columns)):\n",
    "        t_sum += df2[df2.columns[column][index]\n",
    "    print(df2.index[index], ':', t_sum/len(df2.columns))"
   ]
  },
  {
   "cell_type": "code",
   "execution_count": 26,
   "id": "9b7dee81-37ca-49bf-828f-f264ded3b171",
   "metadata": {},
   "outputs": [
    {
     "data": {
      "text/html": [
       "<div>\n",
       "<style scoped>\n",
       "    .dataframe tbody tr th:only-of-type {\n",
       "        vertical-align: middle;\n",
       "    }\n",
       "\n",
       "    .dataframe tbody tr th {\n",
       "        vertical-align: top;\n",
       "    }\n",
       "\n",
       "    .dataframe thead th {\n",
       "        text-align: right;\n",
       "    }\n",
       "</style>\n",
       "<table border=\"1\" class=\"dataframe\">\n",
       "  <thead>\n",
       "    <tr style=\"text-align: right;\">\n",
       "      <th></th>\n",
       "      <th>Kim</th>\n",
       "      <th>Lee</th>\n",
       "      <th>Jung</th>\n",
       "      <th>Choi</th>\n",
       "      <th>Lim</th>\n",
       "    </tr>\n",
       "  </thead>\n",
       "  <tbody>\n",
       "    <tr>\n",
       "      <th>age</th>\n",
       "      <td>23.0</td>\n",
       "      <td>21.0</td>\n",
       "      <td>24.00</td>\n",
       "      <td>22.00</td>\n",
       "      <td>20.0</td>\n",
       "    </tr>\n",
       "    <tr>\n",
       "      <th>weight</th>\n",
       "      <td>46.0</td>\n",
       "      <td>53.0</td>\n",
       "      <td>55.00</td>\n",
       "      <td>49.00</td>\n",
       "      <td>60.0</td>\n",
       "    </tr>\n",
       "    <tr>\n",
       "      <th>height</th>\n",
       "      <td>160.0</td>\n",
       "      <td>162.0</td>\n",
       "      <td>170.00</td>\n",
       "      <td>158.00</td>\n",
       "      <td>164.0</td>\n",
       "    </tr>\n",
       "    <tr>\n",
       "      <th>mean</th>\n",
       "      <td>NaN</td>\n",
       "      <td>20.2</td>\n",
       "      <td>15.57</td>\n",
       "      <td>19.63</td>\n",
       "      <td>NaN</td>\n",
       "    </tr>\n",
       "  </tbody>\n",
       "</table>\n",
       "</div>"
      ],
      "text/plain": [
       "          Kim    Lee    Jung    Choi    Lim\n",
       "age      23.0   21.0   24.00   22.00   20.0\n",
       "weight   46.0   53.0   55.00   49.00   60.0\n",
       "height  160.0  162.0  170.00  158.00  164.0\n",
       "mean      NaN   20.2   15.57   19.63    NaN"
      ]
     },
     "execution_count": 26,
     "metadata": {},
     "output_type": "execute_result"
    }
   ],
   "source": [
    "df2.loc['mean'] = df1['BMI']\n",
    "df2"
   ]
  },
  {
   "cell_type": "code",
   "execution_count": 27,
   "id": "a0b7ab15-133c-4ce2-b127-5a62d5dc0456",
   "metadata": {},
   "outputs": [
    {
     "data": {
      "text/html": [
       "<div>\n",
       "<style scoped>\n",
       "    .dataframe tbody tr th:only-of-type {\n",
       "        vertical-align: middle;\n",
       "    }\n",
       "\n",
       "    .dataframe tbody tr th {\n",
       "        vertical-align: top;\n",
       "    }\n",
       "\n",
       "    .dataframe thead th {\n",
       "        text-align: right;\n",
       "    }\n",
       "</style>\n",
       "<table border=\"1\" class=\"dataframe\">\n",
       "  <thead>\n",
       "    <tr style=\"text-align: right;\">\n",
       "      <th></th>\n",
       "      <th>Kim</th>\n",
       "      <th>Lee</th>\n",
       "      <th>Jung</th>\n",
       "      <th>Choi</th>\n",
       "      <th>Lim</th>\n",
       "      <th>mean</th>\n",
       "    </tr>\n",
       "  </thead>\n",
       "  <tbody>\n",
       "    <tr>\n",
       "      <th>age</th>\n",
       "      <td>23.0</td>\n",
       "      <td>21.0</td>\n",
       "      <td>24.00</td>\n",
       "      <td>22.00</td>\n",
       "      <td>20.0</td>\n",
       "      <td>44.0</td>\n",
       "    </tr>\n",
       "    <tr>\n",
       "      <th>weight</th>\n",
       "      <td>46.0</td>\n",
       "      <td>53.0</td>\n",
       "      <td>55.00</td>\n",
       "      <td>49.00</td>\n",
       "      <td>60.0</td>\n",
       "      <td>99.0</td>\n",
       "    </tr>\n",
       "    <tr>\n",
       "      <th>height</th>\n",
       "      <td>160.0</td>\n",
       "      <td>162.0</td>\n",
       "      <td>170.00</td>\n",
       "      <td>158.00</td>\n",
       "      <td>164.0</td>\n",
       "      <td>322.0</td>\n",
       "    </tr>\n",
       "    <tr>\n",
       "      <th>mean</th>\n",
       "      <td>NaN</td>\n",
       "      <td>20.2</td>\n",
       "      <td>15.57</td>\n",
       "      <td>19.63</td>\n",
       "      <td>NaN</td>\n",
       "      <td>NaN</td>\n",
       "    </tr>\n",
       "  </tbody>\n",
       "</table>\n",
       "</div>"
      ],
      "text/plain": [
       "          Kim    Lee    Jung    Choi    Lim   mean\n",
       "age      23.0   21.0   24.00   22.00   20.0   44.0\n",
       "weight   46.0   53.0   55.00   49.00   60.0   99.0\n",
       "height  160.0  162.0  170.00  158.00  164.0  322.0\n",
       "mean      NaN   20.2   15.57   19.63    NaN    NaN"
      ]
     },
     "execution_count": 27,
     "metadata": {},
     "output_type": "execute_result"
    }
   ],
   "source": [
    "df2 = df2.assign(mean = df2['Kim'] + df2['Lee'] )\n",
    "df2"
   ]
  },
  {
   "cell_type": "code",
   "execution_count": 29,
   "id": "e306f748-3df2-43e6-84d4-978dfadacc25",
   "metadata": {},
   "outputs": [
    {
     "ename": "KeyError",
     "evalue": "'BMI'",
     "output_type": "error",
     "traceback": [
      "\u001b[1;31m---------------------------------------------------------------------------\u001b[0m",
      "\u001b[1;31mKeyError\u001b[0m                                  Traceback (most recent call last)",
      "File \u001b[1;32m~\\anaconda3\\lib\\site-packages\\pandas\\core\\indexes\\base.py:3621\u001b[0m, in \u001b[0;36mIndex.get_loc\u001b[1;34m(self, key, method, tolerance)\u001b[0m\n\u001b[0;32m   3620\u001b[0m \u001b[38;5;28;01mtry\u001b[39;00m:\n\u001b[1;32m-> 3621\u001b[0m     \u001b[38;5;28;01mreturn\u001b[39;00m \u001b[38;5;28;43mself\u001b[39;49m\u001b[38;5;241;43m.\u001b[39;49m\u001b[43m_engine\u001b[49m\u001b[38;5;241;43m.\u001b[39;49m\u001b[43mget_loc\u001b[49m\u001b[43m(\u001b[49m\u001b[43mcasted_key\u001b[49m\u001b[43m)\u001b[49m\n\u001b[0;32m   3622\u001b[0m \u001b[38;5;28;01mexcept\u001b[39;00m \u001b[38;5;167;01mKeyError\u001b[39;00m \u001b[38;5;28;01mas\u001b[39;00m err:\n",
      "File \u001b[1;32m~\\anaconda3\\lib\\site-packages\\pandas\\_libs\\index.pyx:136\u001b[0m, in \u001b[0;36mpandas._libs.index.IndexEngine.get_loc\u001b[1;34m()\u001b[0m\n",
      "File \u001b[1;32m~\\anaconda3\\lib\\site-packages\\pandas\\_libs\\index.pyx:163\u001b[0m, in \u001b[0;36mpandas._libs.index.IndexEngine.get_loc\u001b[1;34m()\u001b[0m\n",
      "File \u001b[1;32mpandas\\_libs\\hashtable_class_helper.pxi:5198\u001b[0m, in \u001b[0;36mpandas._libs.hashtable.PyObjectHashTable.get_item\u001b[1;34m()\u001b[0m\n",
      "File \u001b[1;32mpandas\\_libs\\hashtable_class_helper.pxi:5206\u001b[0m, in \u001b[0;36mpandas._libs.hashtable.PyObjectHashTable.get_item\u001b[1;34m()\u001b[0m\n",
      "\u001b[1;31mKeyError\u001b[0m: 'BMI'",
      "\nThe above exception was the direct cause of the following exception:\n",
      "\u001b[1;31mKeyError\u001b[0m                                  Traceback (most recent call last)",
      "Input \u001b[1;32mIn [29]\u001b[0m, in \u001b[0;36m<cell line: 1>\u001b[1;34m()\u001b[0m\n\u001b[1;32m----> 1\u001b[0m df2\u001b[38;5;241m.\u001b[39mloc[\u001b[38;5;124m'\u001b[39m\u001b[38;5;124mBMI_G\u001b[39m\u001b[38;5;124m'\u001b[39m] \u001b[38;5;241m=\u001b[39m np\u001b[38;5;241m.\u001b[39mwhere(\u001b[43mdf2\u001b[49m\u001b[43m[\u001b[49m\u001b[38;5;124;43m'\u001b[39;49m\u001b[38;5;124;43mBMI\u001b[39;49m\u001b[38;5;124;43m'\u001b[39;49m\u001b[43m]\u001b[49m \u001b[38;5;241m<\u001b[39m\u001b[38;5;241m=\u001b[39m \u001b[38;5;241m17\u001b[39m, \u001b[38;5;124m'\u001b[39m\u001b[38;5;124mlow\u001b[39m\u001b[38;5;124m'\u001b[39m, np\u001b[38;5;241m.\u001b[39mwhere(df2[\u001b[38;5;124m'\u001b[39m\u001b[38;5;124mBMI\u001b[39m\u001b[38;5;124m'\u001b[39m] \u001b[38;5;241m>\u001b[39m\u001b[38;5;241m=\u001b[39m \u001b[38;5;241m20\u001b[39m, \u001b[38;5;124m'\u001b[39m\u001b[38;5;124mnormal\u001b[39m\u001b[38;5;124m'\u001b[39m, \u001b[38;5;124m'\u001b[39m\u001b[38;5;124mobesity\u001b[39m\u001b[38;5;124m'\u001b[39m))\n",
      "File \u001b[1;32m~\\anaconda3\\lib\\site-packages\\pandas\\core\\frame.py:3505\u001b[0m, in \u001b[0;36mDataFrame.__getitem__\u001b[1;34m(self, key)\u001b[0m\n\u001b[0;32m   3503\u001b[0m \u001b[38;5;28;01mif\u001b[39;00m \u001b[38;5;28mself\u001b[39m\u001b[38;5;241m.\u001b[39mcolumns\u001b[38;5;241m.\u001b[39mnlevels \u001b[38;5;241m>\u001b[39m \u001b[38;5;241m1\u001b[39m:\n\u001b[0;32m   3504\u001b[0m     \u001b[38;5;28;01mreturn\u001b[39;00m \u001b[38;5;28mself\u001b[39m\u001b[38;5;241m.\u001b[39m_getitem_multilevel(key)\n\u001b[1;32m-> 3505\u001b[0m indexer \u001b[38;5;241m=\u001b[39m \u001b[38;5;28;43mself\u001b[39;49m\u001b[38;5;241;43m.\u001b[39;49m\u001b[43mcolumns\u001b[49m\u001b[38;5;241;43m.\u001b[39;49m\u001b[43mget_loc\u001b[49m\u001b[43m(\u001b[49m\u001b[43mkey\u001b[49m\u001b[43m)\u001b[49m\n\u001b[0;32m   3506\u001b[0m \u001b[38;5;28;01mif\u001b[39;00m is_integer(indexer):\n\u001b[0;32m   3507\u001b[0m     indexer \u001b[38;5;241m=\u001b[39m [indexer]\n",
      "File \u001b[1;32m~\\anaconda3\\lib\\site-packages\\pandas\\core\\indexes\\base.py:3623\u001b[0m, in \u001b[0;36mIndex.get_loc\u001b[1;34m(self, key, method, tolerance)\u001b[0m\n\u001b[0;32m   3621\u001b[0m     \u001b[38;5;28;01mreturn\u001b[39;00m \u001b[38;5;28mself\u001b[39m\u001b[38;5;241m.\u001b[39m_engine\u001b[38;5;241m.\u001b[39mget_loc(casted_key)\n\u001b[0;32m   3622\u001b[0m \u001b[38;5;28;01mexcept\u001b[39;00m \u001b[38;5;167;01mKeyError\u001b[39;00m \u001b[38;5;28;01mas\u001b[39;00m err:\n\u001b[1;32m-> 3623\u001b[0m     \u001b[38;5;28;01mraise\u001b[39;00m \u001b[38;5;167;01mKeyError\u001b[39;00m(key) \u001b[38;5;28;01mfrom\u001b[39;00m \u001b[38;5;21;01merr\u001b[39;00m\n\u001b[0;32m   3624\u001b[0m \u001b[38;5;28;01mexcept\u001b[39;00m \u001b[38;5;167;01mTypeError\u001b[39;00m:\n\u001b[0;32m   3625\u001b[0m     \u001b[38;5;66;03m# If we have a listlike key, _check_indexing_error will raise\u001b[39;00m\n\u001b[0;32m   3626\u001b[0m     \u001b[38;5;66;03m#  InvalidIndexError. Otherwise we fall through and re-raise\u001b[39;00m\n\u001b[0;32m   3627\u001b[0m     \u001b[38;5;66;03m#  the TypeError.\u001b[39;00m\n\u001b[0;32m   3628\u001b[0m     \u001b[38;5;28mself\u001b[39m\u001b[38;5;241m.\u001b[39m_check_indexing_error(key)\n",
      "\u001b[1;31mKeyError\u001b[0m: 'BMI'"
     ]
    }
   ],
   "source": [
    "df2.loc['BMI_G'] = np.where(df2['BMI'] <= 17, 'low', np.where(df2['BMI'] >= 20, 'normal', 'obesity'))"
   ]
  },
  {
   "cell_type": "code",
   "execution_count": 30,
   "id": "316b6959-dd83-4911-96e3-4416948438dd",
   "metadata": {},
   "outputs": [],
   "source": [
    "df2.reset_index(inplace = True)"
   ]
  },
  {
   "cell_type": "code",
   "execution_count": null,
   "id": "1e381d7b-68b6-43ce-b6b2-43576a44e9d1",
   "metadata": {},
   "outputs": [],
   "source": []
  }
 ],
 "metadata": {
  "kernelspec": {
   "display_name": "Python 3 (ipykernel)",
   "language": "python",
   "name": "python3"
  },
  "language_info": {
   "codemirror_mode": {
    "name": "ipython",
    "version": 3
   },
   "file_extension": ".py",
   "mimetype": "text/x-python",
   "name": "python",
   "nbconvert_exporter": "python",
   "pygments_lexer": "ipython3",
   "version": "3.9.12"
  }
 },
 "nbformat": 4,
 "nbformat_minor": 5
}
