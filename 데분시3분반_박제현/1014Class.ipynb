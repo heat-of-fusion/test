{
 "cells": [
  {
   "cell_type": "markdown",
   "id": "e45cd014-7949-4293-9a68-5b2f370afaa6",
   "metadata": {},
   "source": [
    "# 데이터분석과 시각화\n",
    "\n",
    "## *인공지능융합학부* ` 20226744학번 ` **박제현**\n",
    "\n",
    "### 10월 14일 수업 강의 내용\""
   ]
  },
  {
   "cell_type": "code",
   "execution_count": 1,
   "id": "e4872a91-667f-4c44-a94c-1139d4bc8136",
   "metadata": {},
   "outputs": [],
   "source": [
    "sub_list = ['math', 'english', 'science', 'history']\n",
    "score_list = [87, 94, 85, 92]\n",
    "Fscore_list = [i + 4 for i in score_list]"
   ]
  },
  {
   "cell_type": "code",
   "execution_count": 2,
   "id": "19136472-37ce-4f5d-9e63-12554dbf0bca",
   "metadata": {},
   "outputs": [],
   "source": [
    "sem_dic = {'subjct': sub_list, 'M_scr': score_list, 'F_scr': Fscore_list}"
   ]
  },
  {
   "cell_type": "code",
   "execution_count": 3,
   "id": "36262f45-485c-4f55-b4dd-15bea93539e0",
   "metadata": {},
   "outputs": [
    {
     "data": {
      "text/html": [
       "<div>\n",
       "<style scoped>\n",
       "    .dataframe tbody tr th:only-of-type {\n",
       "        vertical-align: middle;\n",
       "    }\n",
       "\n",
       "    .dataframe tbody tr th {\n",
       "        vertical-align: top;\n",
       "    }\n",
       "\n",
       "    .dataframe thead th {\n",
       "        text-align: right;\n",
       "    }\n",
       "</style>\n",
       "<table border=\"1\" class=\"dataframe\">\n",
       "  <thead>\n",
       "    <tr style=\"text-align: right;\">\n",
       "      <th></th>\n",
       "      <th>subjct</th>\n",
       "      <th>M_scr</th>\n",
       "      <th>F_scr</th>\n",
       "    </tr>\n",
       "  </thead>\n",
       "  <tbody>\n",
       "    <tr>\n",
       "      <th>0</th>\n",
       "      <td>math</td>\n",
       "      <td>87</td>\n",
       "      <td>91</td>\n",
       "    </tr>\n",
       "    <tr>\n",
       "      <th>1</th>\n",
       "      <td>english</td>\n",
       "      <td>94</td>\n",
       "      <td>98</td>\n",
       "    </tr>\n",
       "    <tr>\n",
       "      <th>2</th>\n",
       "      <td>science</td>\n",
       "      <td>85</td>\n",
       "      <td>89</td>\n",
       "    </tr>\n",
       "    <tr>\n",
       "      <th>3</th>\n",
       "      <td>history</td>\n",
       "      <td>92</td>\n",
       "      <td>96</td>\n",
       "    </tr>\n",
       "  </tbody>\n",
       "</table>\n",
       "</div>"
      ],
      "text/plain": [
       "    subjct  M_scr  F_scr\n",
       "0     math     87     91\n",
       "1  english     94     98\n",
       "2  science     85     89\n",
       "3  history     92     96"
      ]
     },
     "execution_count": 3,
     "metadata": {},
     "output_type": "execute_result"
    }
   ],
   "source": [
    "import pandas as pd\n",
    "\n",
    "df1 = pd.DataFrame(sem_dic)\n",
    "df1"
   ]
  },
  {
   "cell_type": "code",
   "execution_count": 4,
   "id": "5f1403d9-5293-43b4-92f3-ff6ee9feb523",
   "metadata": {},
   "outputs": [
    {
     "data": {
      "text/html": [
       "<div>\n",
       "<style scoped>\n",
       "    .dataframe tbody tr th:only-of-type {\n",
       "        vertical-align: middle;\n",
       "    }\n",
       "\n",
       "    .dataframe tbody tr th {\n",
       "        vertical-align: top;\n",
       "    }\n",
       "\n",
       "    .dataframe thead th {\n",
       "        text-align: right;\n",
       "    }\n",
       "</style>\n",
       "<table border=\"1\" class=\"dataframe\">\n",
       "  <thead>\n",
       "    <tr style=\"text-align: right;\">\n",
       "      <th></th>\n",
       "      <th>math</th>\n",
       "      <th>english</th>\n",
       "      <th>science</th>\n",
       "      <th>history</th>\n",
       "    </tr>\n",
       "  </thead>\n",
       "  <tbody>\n",
       "    <tr>\n",
       "      <th>M_scr</th>\n",
       "      <td>87</td>\n",
       "      <td>94</td>\n",
       "      <td>85</td>\n",
       "      <td>92</td>\n",
       "    </tr>\n",
       "    <tr>\n",
       "      <th>F_scr</th>\n",
       "      <td>91</td>\n",
       "      <td>98</td>\n",
       "      <td>89</td>\n",
       "      <td>96</td>\n",
       "    </tr>\n",
       "  </tbody>\n",
       "</table>\n",
       "</div>"
      ],
      "text/plain": [
       "       math  english  science  history\n",
       "M_scr    87       94       85       92\n",
       "F_scr    91       98       89       96"
      ]
     },
     "execution_count": 4,
     "metadata": {},
     "output_type": "execute_result"
    }
   ],
   "source": [
    "df2 = pd.DataFrame([score_list, Fscore_list], index = ['M_scr', 'F_scr'], columns = sub_list)\n",
    "df2"
   ]
  },
  {
   "cell_type": "code",
   "execution_count": 7,
   "id": "54208b4b-e495-490e-aa9d-7d960df7bad6",
   "metadata": {},
   "outputs": [
    {
     "data": {
      "text/html": [
       "<div>\n",
       "<style scoped>\n",
       "    .dataframe tbody tr th:only-of-type {\n",
       "        vertical-align: middle;\n",
       "    }\n",
       "\n",
       "    .dataframe tbody tr th {\n",
       "        vertical-align: top;\n",
       "    }\n",
       "\n",
       "    .dataframe thead th {\n",
       "        text-align: right;\n",
       "    }\n",
       "</style>\n",
       "<table border=\"1\" class=\"dataframe\">\n",
       "  <thead>\n",
       "    <tr style=\"text-align: right;\">\n",
       "      <th></th>\n",
       "      <th>math</th>\n",
       "      <th>science</th>\n",
       "    </tr>\n",
       "  </thead>\n",
       "  <tbody>\n",
       "    <tr>\n",
       "      <th>M_scr</th>\n",
       "      <td>87</td>\n",
       "      <td>85</td>\n",
       "    </tr>\n",
       "    <tr>\n",
       "      <th>F_scr</th>\n",
       "      <td>91</td>\n",
       "      <td>89</td>\n",
       "    </tr>\n",
       "  </tbody>\n",
       "</table>\n",
       "</div>"
      ],
      "text/plain": [
       "       math  science\n",
       "M_scr    87       85\n",
       "F_scr    91       89"
      ]
     },
     "execution_count": 7,
     "metadata": {},
     "output_type": "execute_result"
    }
   ],
   "source": [
    "# math와 science 두개로 이루어진 데이터프레임 가져오기\n",
    "\n",
    "df2[['math', 'science']]"
   ]
  },
  {
   "cell_type": "code",
   "execution_count": 8,
   "id": "532647b3-685b-4fe1-bf37-31c3fc930d2b",
   "metadata": {},
   "outputs": [
    {
     "data": {
      "text/html": [
       "<div>\n",
       "<style scoped>\n",
       "    .dataframe tbody tr th:only-of-type {\n",
       "        vertical-align: middle;\n",
       "    }\n",
       "\n",
       "    .dataframe tbody tr th {\n",
       "        vertical-align: top;\n",
       "    }\n",
       "\n",
       "    .dataframe thead th {\n",
       "        text-align: right;\n",
       "    }\n",
       "</style>\n",
       "<table border=\"1\" class=\"dataframe\">\n",
       "  <thead>\n",
       "    <tr style=\"text-align: right;\">\n",
       "      <th></th>\n",
       "      <th>math</th>\n",
       "      <th>english</th>\n",
       "      <th>science</th>\n",
       "      <th>history</th>\n",
       "    </tr>\n",
       "  </thead>\n",
       "  <tbody>\n",
       "    <tr>\n",
       "      <th>M_scr</th>\n",
       "      <td>87</td>\n",
       "      <td>94</td>\n",
       "      <td>84</td>\n",
       "      <td>92</td>\n",
       "    </tr>\n",
       "    <tr>\n",
       "      <th>F_scr</th>\n",
       "      <td>91</td>\n",
       "      <td>98</td>\n",
       "      <td>89</td>\n",
       "      <td>96</td>\n",
       "    </tr>\n",
       "  </tbody>\n",
       "</table>\n",
       "</div>"
      ],
      "text/plain": [
       "       math  english  science  history\n",
       "M_scr    87       94       84       92\n",
       "F_scr    91       98       89       96"
      ]
     },
     "execution_count": 8,
     "metadata": {},
     "output_type": "execute_result"
    }
   ],
   "source": [
    "# science의 M_scr을 84점으로 바꾸기\n",
    "\n",
    "df2['science'][0] = 84\n",
    "#df2['science']['M_scr'] = 84\n",
    "df2"
   ]
  },
  {
   "cell_type": "code",
   "execution_count": 9,
   "id": "1de50b1c-c2c7-46b6-a0d9-ee76475f6b0b",
   "metadata": {},
   "outputs": [
    {
     "data": {
      "text/html": [
       "<div>\n",
       "<style scoped>\n",
       "    .dataframe tbody tr th:only-of-type {\n",
       "        vertical-align: middle;\n",
       "    }\n",
       "\n",
       "    .dataframe tbody tr th {\n",
       "        vertical-align: top;\n",
       "    }\n",
       "\n",
       "    .dataframe thead th {\n",
       "        text-align: right;\n",
       "    }\n",
       "</style>\n",
       "<table border=\"1\" class=\"dataframe\">\n",
       "  <thead>\n",
       "    <tr style=\"text-align: right;\">\n",
       "      <th></th>\n",
       "      <th>index</th>\n",
       "      <th>math</th>\n",
       "      <th>english</th>\n",
       "      <th>science</th>\n",
       "      <th>history</th>\n",
       "    </tr>\n",
       "  </thead>\n",
       "  <tbody>\n",
       "    <tr>\n",
       "      <th>0</th>\n",
       "      <td>M_scr</td>\n",
       "      <td>87</td>\n",
       "      <td>94</td>\n",
       "      <td>84</td>\n",
       "      <td>92</td>\n",
       "    </tr>\n",
       "    <tr>\n",
       "      <th>1</th>\n",
       "      <td>F_scr</td>\n",
       "      <td>91</td>\n",
       "      <td>98</td>\n",
       "      <td>89</td>\n",
       "      <td>96</td>\n",
       "    </tr>\n",
       "  </tbody>\n",
       "</table>\n",
       "</div>"
      ],
      "text/plain": [
       "   index  math  english  science  history\n",
       "0  M_scr    87       94       84       92\n",
       "1  F_scr    91       98       89       96"
      ]
     },
     "execution_count": 9,
     "metadata": {},
     "output_type": "execute_result"
    }
   ],
   "source": [
    "# 인덱스에 새로운 요소들 추가\n",
    "\n",
    "df2.reset_index(inplace = True)\n",
    "#reset_index는 매개변수를 주지 않으면 range index가 기본으로 들어간다.\n",
    "df2"
   ]
  },
  {
   "cell_type": "code",
   "execution_count": 10,
   "id": "5572dc88-8641-48ab-b606-cc3e2d3f3999",
   "metadata": {},
   "outputs": [
    {
     "data": {
      "text/html": [
       "<div>\n",
       "<style scoped>\n",
       "    .dataframe tbody tr th:only-of-type {\n",
       "        vertical-align: middle;\n",
       "    }\n",
       "\n",
       "    .dataframe tbody tr th {\n",
       "        vertical-align: top;\n",
       "    }\n",
       "\n",
       "    .dataframe thead th {\n",
       "        text-align: right;\n",
       "    }\n",
       "</style>\n",
       "<table border=\"1\" class=\"dataframe\">\n",
       "  <thead>\n",
       "    <tr style=\"text-align: right;\">\n",
       "      <th></th>\n",
       "      <th>sem</th>\n",
       "      <th>math</th>\n",
       "      <th>english</th>\n",
       "      <th>science</th>\n",
       "      <th>history</th>\n",
       "    </tr>\n",
       "  </thead>\n",
       "  <tbody>\n",
       "    <tr>\n",
       "      <th>0</th>\n",
       "      <td>M_scr</td>\n",
       "      <td>87</td>\n",
       "      <td>94</td>\n",
       "      <td>84</td>\n",
       "      <td>92</td>\n",
       "    </tr>\n",
       "    <tr>\n",
       "      <th>1</th>\n",
       "      <td>F_scr</td>\n",
       "      <td>91</td>\n",
       "      <td>98</td>\n",
       "      <td>89</td>\n",
       "      <td>96</td>\n",
       "    </tr>\n",
       "  </tbody>\n",
       "</table>\n",
       "</div>"
      ],
      "text/plain": [
       "     sem  math  english  science  history\n",
       "0  M_scr    87       94       84       92\n",
       "1  F_scr    91       98       89       96"
      ]
     },
     "execution_count": 10,
     "metadata": {},
     "output_type": "execute_result"
    }
   ],
   "source": [
    "# 인덱스 이름만 바꾸기\n",
    "\n",
    "df2.rename(columns = {'index': 'sem'}, inplace = True)\n",
    "df2"
   ]
  },
  {
   "cell_type": "code",
   "execution_count": 11,
   "id": "542a13a1-df8c-4090-bda3-9a224eb57168",
   "metadata": {},
   "outputs": [
    {
     "data": {
      "text/html": [
       "<div>\n",
       "<style scoped>\n",
       "    .dataframe tbody tr th:only-of-type {\n",
       "        vertical-align: middle;\n",
       "    }\n",
       "\n",
       "    .dataframe tbody tr th {\n",
       "        vertical-align: top;\n",
       "    }\n",
       "\n",
       "    .dataframe thead th {\n",
       "        text-align: right;\n",
       "    }\n",
       "</style>\n",
       "<table border=\"1\" class=\"dataframe\">\n",
       "  <thead>\n",
       "    <tr style=\"text-align: right;\">\n",
       "      <th></th>\n",
       "      <th>math</th>\n",
       "      <th>english</th>\n",
       "      <th>science</th>\n",
       "      <th>history</th>\n",
       "    </tr>\n",
       "    <tr>\n",
       "      <th>sem</th>\n",
       "      <th></th>\n",
       "      <th></th>\n",
       "      <th></th>\n",
       "      <th></th>\n",
       "    </tr>\n",
       "  </thead>\n",
       "  <tbody>\n",
       "    <tr>\n",
       "      <th>M_scr</th>\n",
       "      <td>87</td>\n",
       "      <td>94</td>\n",
       "      <td>84</td>\n",
       "      <td>92</td>\n",
       "    </tr>\n",
       "    <tr>\n",
       "      <th>F_scr</th>\n",
       "      <td>91</td>\n",
       "      <td>98</td>\n",
       "      <td>89</td>\n",
       "      <td>96</td>\n",
       "    </tr>\n",
       "  </tbody>\n",
       "</table>\n",
       "</div>"
      ],
      "text/plain": [
       "       math  english  science  history\n",
       "sem                                   \n",
       "M_scr    87       94       84       92\n",
       "F_scr    91       98       89       96"
      ]
     },
     "execution_count": 11,
     "metadata": {},
     "output_type": "execute_result"
    }
   ],
   "source": [
    "# sem을 다시 초기화하기\n",
    "\n",
    "df2.set_index('sem', inplace = True)\n",
    "df2"
   ]
  },
  {
   "cell_type": "code",
   "execution_count": null,
   "id": "7e99a782-5e36-4317-9ba2-71c0cc870bef",
   "metadata": {},
   "outputs": [],
   "source": [
    "# del df2['mean']\n",
    "df2['mean'] = (df2['math'] + df2['english'] + df2['science'] + df2['history']) / (len(df2.columns) - 1)\n",
    "# df2.assign(mean = (df2['math'] + df2['english'] + df2['science'] + df2['history']) / len(df2.columns))\n",
    "df2"
   ]
  },
  {
   "cell_type": "code",
   "execution_count": null,
   "id": "dea5f0e8-b6b9-4575-af83-9a253e8530a2",
   "metadata": {},
   "outputs": [],
   "source": [
    "# df2['grade'] = ''\n",
    "# for i in range(len(df2)):\n",
    "#     if df2['mean'][i] >= 90:\n",
    "#         df2['grade'][i] = 'A'\n",
    "#     elif df2['mean'][i] >= 80:\n",
    "#         df2['grade'][i] = 'B'\n",
    "#     elif df2['mean'][i] >= 70:\n",
    "#         df2['grade'][i] = 'C'\n",
    "#     elif df2['mean'][i] >= 60:\n",
    "#         df2['grade'][i] = 'D'\n",
    "#     else:\n",
    "#         df2['grade'][i] = 'F'\n",
    "# df2\n",
    "\n",
    "import numpy as np\n",
    "\n",
    "df2['grade'] = np.where(df2['mean'] >= 90, 'A+', 'B+')\n",
    "df2"
   ]
  },
  {
   "cell_type": "code",
   "execution_count": null,
   "id": "257fff42-8872-4b70-9fe7-a23ee0cfcef5",
   "metadata": {},
   "outputs": [],
   "source": [
    "test = df2.loc['M_scr'] + df2.loc['F_scr']\n",
    "test"
   ]
  },
  {
   "cell_type": "code",
   "execution_count": null,
   "id": "7ec4c97f-d9b3-4d5c-9392-23981d872ef1",
   "metadata": {},
   "outputs": [],
   "source": [
    "#  grade 삭제\n",
    "\n",
    "from copy import deepcopy\n",
    "df2_test = deepcopy(df2)\n",
    "df2_test.drop(columns = 'grade', inplace = True)\n",
    "df2_test\n"
   ]
  },
  {
   "cell_type": "code",
   "execution_count": null,
   "id": "5671f82d-28a1-473f-8f67-c4c82c44e191",
   "metadata": {},
   "outputs": [],
   "source": [
    "# 과목별 평균\n",
    "\n",
    "df2.index"
   ]
  },
  {
   "cell_type": "code",
   "execution_count": null,
   "id": "83309b40-c8b8-49d4-9659-3a5f27da6e45",
   "metadata": {},
   "outputs": [],
   "source": [
    "df2_test.mean(axis = 'index')"
   ]
  },
  {
   "cell_type": "code",
   "execution_count": null,
   "id": "863363ef-ac2e-4ee8-9ff6-8e9480993b69",
   "metadata": {},
   "outputs": [],
   "source": [
    "df2.rename(index = {'M_scr': '중간', 'F_scr': '기말'}, inplace = True)\n",
    "df2"
   ]
  },
  {
   "cell_type": "code",
   "execution_count": null,
   "id": "4a2ac8eb-7e60-445f-915e-5ae03037745f",
   "metadata": {},
   "outputs": [],
   "source": [
    "df2.sort_index(ascending = False, inplace = True)\n",
    "df2"
   ]
  },
  {
   "cell_type": "code",
   "execution_count": null,
   "id": "c24963dd-948d-4340-b883-6f168e537706",
   "metadata": {},
   "outputs": [],
   "source": [
    "df2.loc['mean'] = df2.mean()\n",
    "df2"
   ]
  },
  {
   "cell_type": "code",
   "execution_count": null,
   "id": "0e88bbab-b25b-4a83-86f0-7ee0a56bdd7c",
   "metadata": {},
   "outputs": [],
   "source": [
    "df2.sort_values('math', ascending = False, inplace = True)\n",
    "df2"
   ]
  },
  {
   "cell_type": "code",
   "execution_count": null,
   "id": "c347e3b6-0ee3-4b66-b1d3-e7ba2ed66b48",
   "metadata": {},
   "outputs": [],
   "source": [
    "del df2['grade']\n",
    "df2.loc['grade'] = np.where(df2.loc['mean'] >= 95, 'A+', np.where(df2.loc['mean'] >= 90, 'A0', 'B+'))"
   ]
  },
  {
   "cell_type": "code",
   "execution_count": null,
   "id": "37e75462-38be-4e11-a142-3a1827f4abbe",
   "metadata": {},
   "outputs": [],
   "source": [
    "df2"
   ]
  },
  {
   "cell_type": "code",
   "execution_count": null,
   "id": "4207354e-3a0f-4e44-aad1-2c760f5ace6d",
   "metadata": {},
   "outputs": [],
   "source": []
  }
 ],
 "metadata": {
  "kernelspec": {
   "display_name": "Python 3 (ipykernel)",
   "language": "python",
   "name": "python3"
  },
  "language_info": {
   "codemirror_mode": {
    "name": "ipython",
    "version": 3
   },
   "file_extension": ".py",
   "mimetype": "text/x-python",
   "name": "python",
   "nbconvert_exporter": "python",
   "pygments_lexer": "ipython3",
   "version": "3.9.12"
  }
 },
 "nbformat": 4,
 "nbformat_minor": 5
}
