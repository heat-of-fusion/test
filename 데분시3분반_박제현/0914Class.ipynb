{
 "cells": [
  {
   "cell_type": "markdown",
   "id": "09415670-54c4-4b4a-84a3-8966807d0967",
   "metadata": {},
   "source": [
    "# 데이터분석과 시각화\n",
    "\n",
    "## *인공지능융합학부* ` 20226744학번 ` **박제현**\n",
    "\n",
    "### 9월 14일 수업 강의 내용"
   ]
  },
  {
   "cell_type": "code",
   "execution_count": 1,
   "id": "8f0fc7ce-1f76-4155-adcc-789a5c11ff8f",
   "metadata": {},
   "outputs": [],
   "source": [
    "sub_tuple = ('math', 'english', 'science', 'history')\n",
    "score_tuple = (87, 94, 85, 92)"
   ]
  },
  {
   "cell_type": "code",
   "execution_count": 2,
   "id": "f77a15ec-bc03-4a71-838d-c5e808af0775",
   "metadata": {},
   "outputs": [
    {
     "name": "stdout",
     "output_type": "stream",
     "text": [
      "sub_list= ['math', 'english', 'science', 'history']\n",
      "score_list= [87, 94, 85, 92]\n",
      "Mid_list= [('math', 87), ('english', 94), ('science', 85), ('history', 92)]\n"
     ]
    }
   ],
   "source": [
    "sub_list = [subs for subs in sub_tuple]\n",
    "score_list = [scores for scores in score_tuple]\n",
    "Mid_list = []\n",
    "for i in range(len(sub_list)):\n",
    "    Mid_list.append((sub_list[i], score_list[i]))\n",
    "print('sub_list=', sub_list)\n",
    "print('score_list=', score_list)\n",
    "print('Mid_list=', Mid_list)"
   ]
  },
  {
   "cell_type": "code",
   "execution_count": 3,
   "id": "91e4ff3d-874d-4818-95cb-9fc7f84f24bd",
   "metadata": {
    "tags": []
   },
   "outputs": [
    {
     "name": "stdout",
     "output_type": "stream",
     "text": [
      "scroe_list= [87, 94, 85, 92]\n"
     ]
    }
   ],
   "source": [
    "score_list[3] = 95\n",
    "del score_list[3] # score_list.remove(95), score_list.pop(3)도 같은 기능을 한다.\n",
    "score_list.extend([80, 92])\n",
    "score_list.remove(80)\n",
    "print('scroe_list=', score_list)"
   ]
  },
  {
   "cell_type": "code",
   "execution_count": 4,
   "id": "494e105c-b6ce-4313-9f35-f5a97eb24c93",
   "metadata": {},
   "outputs": [
    {
     "name": "stdout",
     "output_type": "stream",
     "text": [
      "math\n",
      "87\n",
      "english\n",
      "94\n",
      "science\n",
      "85\n",
      "history\n",
      "92\n"
     ]
    }
   ],
   "source": [
    "for i in Mid_list:\n",
    "    for j in i:\n",
    "        print(j)"
   ]
  },
  {
   "cell_type": "code",
   "execution_count": 5,
   "id": "d6b30875-5547-4730-ad20-5ed7ba9e1a02",
   "metadata": {},
   "outputs": [
    {
     "name": "stdout",
     "output_type": "stream",
     "text": [
      "{'key': 10, 'data': 20}\n",
      "{'key': 10}\n"
     ]
    }
   ],
   "source": [
    "dic = {'key': 10}\n",
    "dic['data'] = 20\n",
    "print(dic)\n",
    "del dic['data']\n",
    "print(dic)"
   ]
  },
  {
   "cell_type": "code",
   "execution_count": 6,
   "id": "755fb666-3197-4188-b34e-70ef48630075",
   "metadata": {},
   "outputs": [
    {
     "name": "stdout",
     "output_type": "stream",
     "text": [
      "{'key': [10, 20, 30, 40]}\n"
     ]
    }
   ],
   "source": [
    "dic['key'] = [10, 20, 30, 40]\n",
    "print(dic)"
   ]
  },
  {
   "cell_type": "code",
   "execution_count": 7,
   "id": "08109860-8a00-4b1a-8c96-b38c562a7209",
   "metadata": {},
   "outputs": [
    {
     "name": "stdout",
     "output_type": "stream",
     "text": [
      "Mid_dic= {'math': 87, 'english': 94, 'science': 85, 'history': 92}\n"
     ]
    }
   ],
   "source": [
    "Mid_dic = {}\n",
    "for i in range(len(sub_list)):\n",
    "    Mid_dic[sub_list[i]] = score_list[i]\n",
    "print('Mid_dic=', Mid_dic)"
   ]
  },
  {
   "cell_type": "code",
   "execution_count": 8,
   "id": "71f1f6fe-9fe6-45bc-8ca7-7926d8142d52",
   "metadata": {},
   "outputs": [
    {
     "name": "stdout",
     "output_type": "stream",
     "text": [
      "Mid_sum= 358 , Mid_avr= 89.5, Mid_mul= 63951960\n"
     ]
    }
   ],
   "source": [
    "Mid_sum = 0\n",
    "Mid_mul = 1\n",
    "for i in score_list:\n",
    "    Mid_sum += i\n",
    "    Mid_mul *= i\n",
    "print('Mid_sum= {} , Mid_avr= {:.1f}, Mid_mul= {}'.format(Mid_sum, Mid_sum / len(sub_list), Mid_mul))"
   ]
  }
 ],
 "metadata": {
  "kernelspec": {
   "display_name": "Python 3 (ipykernel)",
   "language": "python",
   "name": "python3"
  },
  "language_info": {
   "codemirror_mode": {
    "name": "ipython",
    "version": 3
   },
   "file_extension": ".py",
   "mimetype": "text/x-python",
   "name": "python",
   "nbconvert_exporter": "python",
   "pygments_lexer": "ipython3",
   "version": "3.9.12"
  }
 },
 "nbformat": 4,
 "nbformat_minor": 5
}
