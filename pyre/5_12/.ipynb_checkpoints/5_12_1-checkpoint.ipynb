{
 "cells": [
  {
   "cell_type": "code",
   "execution_count": 1,
   "id": "d8ba2e0e",
   "metadata": {},
   "outputs": [
    {
     "name": "stdout",
     "output_type": "stream",
     "text": [
      "1~10 사이의 숫자를 입력해주세요: 6\n",
      "오답입니다\n"
     ]
    }
   ],
   "source": [
    "import random\n",
    "randNum = random.randint(1, 10)\n",
    "userNum = int(input('1~10 사이의 숫자를 입력해주세요: '))\n",
    "if userNum < 11 and userNum > 0:\n",
    "    if randNum == userNum:\n",
    "        print('정답입니다.')\n",
    "    else:\n",
    "        print('오답입니다')\n",
    "else:\n",
    "    print('1~10 사이의 수를 입력해주세요')"
   ]
  },
  {
   "cell_type": "code",
   "execution_count": 3,
   "id": "4104c752",
   "metadata": {},
   "outputs": [
    {
     "name": "stdout",
     "output_type": "stream",
     "text": [
      "1~10 사이의 숫자를 입력해주세요: 11\n",
      "1~10 사이의 수를 입력해주세요\n",
      "1~10 사이의 숫자를 입력해주세요: 6\n",
      "더 작은 숫자를 입력해주세요\n",
      "1~10 사이의 숫자를 입력해주세요: 3\n",
      "정답입니다! 3번만에 맞추셨군요\n"
     ]
    }
   ],
   "source": [
    "randNum = random.randint(1, 10)\n",
    "tries = 0\n",
    "while True:\n",
    "    tries += 1\n",
    "    userNum = int(input('1~10 사이의 숫자를 입력해주세요: '))\n",
    "    if userNum < 11 and userNum > 0:\n",
    "        if randNum > userNum:\n",
    "            print('더 큰 숫자를 입력해주세요')\n",
    "        elif randNum < userNum:\n",
    "            print('더 작은 숫자를 입력해주세요')\n",
    "        else:\n",
    "            print('정답입니다! {}번만에 맞추셨군요'.format(tries))\n",
    "            break\n",
    "    else:\n",
    "        print('1~10 사이의 수를 입력해주세요')"
   ]
  },
  {
   "cell_type": "code",
   "execution_count": 6,
   "id": "7cbebf87",
   "metadata": {},
   "outputs": [
    {
     "name": "stdout",
     "output_type": "stream",
     "text": [
      "1~10 사이의 숫자를 입력해주세요: 3\n",
      "더 작은 숫자를 입력해주세요\n",
      "1~10 사이의 숫자를 입력해주세요: 5\n",
      "더 작은 숫자를 입력해주세요\n",
      "1~10 사이의 숫자를 입력해주세요: 3.5\n",
      "정수인 숫자만 입력 가능합니다\n",
      "1~10 사이의 숫자를 입력해주세요: 2\n",
      "정답입니다! 3번만에 맞추셨군요\n"
     ]
    }
   ],
   "source": [
    "randNum = random.randint(1, 10)\n",
    "tries = 0\n",
    "n = 5\n",
    "\n",
    "while tries <= n:\n",
    "    try:\n",
    "        userNum = int(input('1~10 사이의 숫자를 입력해주세요: '))\n",
    "        tries += 1\n",
    "        if userNum < 11 and userNum > 0:\n",
    "            if randNum > userNum:\n",
    "                print('더 큰 숫자를 입력해주세요')\n",
    "            elif randNum < userNum:\n",
    "                print('더 작은 숫자를 입력해주세요')\n",
    "            else:\n",
    "                print('정답입니다! {}번만에 맞추셨군요'.format(tries))\n",
    "                break\n",
    "        else:\n",
    "            print('1~10 사이의 수를 입력해주세요')\n",
    "    except:\n",
    "        print('정수인 숫자만 입력 가능합니다')\n",
    "        \n",
    "if tries > n:\n",
    "    print('주어진 기회를 전부 사용하셨습니다. 정답은 {}입니다.'.format(randNum))"
   ]
  },
  {
   "cell_type": "code",
   "execution_count": null,
   "id": "91ac35af",
   "metadata": {},
   "outputs": [],
   "source": []
  }
 ],
 "metadata": {
  "kernelspec": {
   "display_name": "Python 3 (ipykernel)",
   "language": "python",
   "name": "python3"
  },
  "language_info": {
   "codemirror_mode": {
    "name": "ipython",
    "version": 3
   },
   "file_extension": ".py",
   "mimetype": "text/x-python",
   "name": "python",
   "nbconvert_exporter": "python",
   "pygments_lexer": "ipython3",
   "version": "3.9.7"
  }
 },
 "nbformat": 4,
 "nbformat_minor": 5
}
