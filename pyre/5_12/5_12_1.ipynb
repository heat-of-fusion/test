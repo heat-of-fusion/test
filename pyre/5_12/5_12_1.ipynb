{
 "cells": [
  {
   "cell_type": "code",
   "execution_count": 1,
   "id": "d8ba2e0e",
   "metadata": {},
   "outputs": [
    {
     "name": "stdout",
     "output_type": "stream",
     "text": [
      "오답입니다\n"
     ]
    }
   ],
   "source": [
    "import random\n",
    "randNum = random.randint(1, 10)\n",
    "userNum = int(input('1~10 사이의 숫자를 입력해주세요: '))\n",
    "if userNum < 11 and userNum > 0:\n",
    "    if randNum == userNum:\n",
    "        print('정답입니다.')\n",
    "    else:\n",
    "        print('오답입니다')\n",
    "else:\n",
    "    print('1~10 사이의 수를 입력해주세요')"
   ]
  },
  {
   "cell_type": "code",
   "execution_count": 2,
   "id": "4104c752",
   "metadata": {},
   "outputs": [
    {
     "name": "stdout",
     "output_type": "stream",
     "text": [
      "더 작은 숫자를 입력해주세요\n",
      "정답입니다! 2번만에 맞추셨군요\n"
     ]
    }
   ],
   "source": [
    "randNum = random.randint(1, 10)\n",
    "tries = 0\n",
    "while True:\n",
    "    tries += 1\n",
    "    userNum = int(input('1~10 사이의 숫자를 입력해주세요: '))\n",
    "    if userNum < 11 and userNum > 0:\n",
    "        if randNum > userNum:\n",
    "            print('더 큰 숫자를 입력해주세요')\n",
    "        elif randNum < userNum:\n",
    "            print('더 작은 숫자를 입력해주세요')\n",
    "        else:\n",
    "            print('정답입니다! {}번만에 맞추셨군요'.format(tries))\n",
    "            break\n",
    "    else:\n",
    "        print('1~10 사이의 수를 입력해주세요')"
   ]
  },
  {
   "cell_type": "code",
   "execution_count": 3,
   "id": "7cbebf87",
   "metadata": {},
   "outputs": [
    {
     "name": "stdout",
     "output_type": "stream",
     "text": [
      "더 작은 숫자를 입력해주세요\n",
      "정답입니다! 2번만에 맞추셨군요\n"
     ]
    }
   ],
   "source": [
    "randNum = random.randint(1, 10)\n",
    "tries = 0\n",
    "n = 5\n",
    "\n",
    "while tries <= n:\n",
    "    try:\n",
    "        userNum = int(input('1~10 사이의 숫자를 입력해주세요: '))\n",
    "        tries += 1\n",
    "        if userNum < 11 and userNum > 0:\n",
    "            if randNum > userNum:\n",
    "                print('더 큰 숫자를 입력해주세요')\n",
    "            elif randNum < userNum:\n",
    "                print('더 작은 숫자를 입력해주세요')\n",
    "            else:\n",
    "                print('정답입니다! {}번만에 맞추셨군요'.format(tries))\n",
    "                break\n",
    "        else:\n",
    "            print('1~10 사이의 수를 입력해주세요')\n",
    "    except:\n",
    "        print('정수인 숫자만 입력 가능합니다')\n",
    "        \n",
    "if tries > n:\n",
    "    print('주어진 기회를 전부 사용하셨습니다. 정답은 {}입니다.'.format(randNum))"
   ]
  },
  {
   "cell_type": "code",
   "execution_count": 3,
   "id": "91ac35af",
   "metadata": {},
   "outputs": [
    {
     "name": "stdout",
     "output_type": "stream",
     "text": [
      "팩트) ipynb 파일은 vscode에서도 실행가능하다.\n"
     ]
    }
   ],
   "source": [
    "print('팩트) ipynb 파일은 vscode에서도 실행가능하다.')"
   ]
  },
  {
   "cell_type": "code",
   "execution_count": null,
   "id": "61dd24ce",
   "metadata": {},
   "outputs": [],
   "source": []
  }
 ],
 "metadata": {
  "interpreter": {
   "hash": "fe1707e8dbf62893384d206290ffb23e2d876fc44218639adb86a98c18543478"
  },
  "kernelspec": {
   "display_name": "Python 3.10.4 64-bit (windows store)",
   "language": "python",
   "name": "python3"
  },
  "language_info": {
   "codemirror_mode": {
    "name": "ipython",
    "version": 3
   },
   "file_extension": ".py",
   "mimetype": "text/x-python",
   "name": "python",
   "nbconvert_exporter": "python",
   "pygments_lexer": "ipython3",
   "version": "3.10.4"
  }
 },
 "nbformat": 4,
 "nbformat_minor": 5
}
